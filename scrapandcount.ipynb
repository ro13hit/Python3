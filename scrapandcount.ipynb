{
 "cells": [
  {
   "cell_type": "code",
   "execution_count": 1,
   "metadata": {},
   "outputs": [
    {
     "name": "stdout",
     "output_type": "stream",
     "text": [
      "Welcome\n"
     ]
    }
   ],
   "source": [
    "import time\n",
    "while True:\n",
    "    timee = time.asctime()\n",
    "    settime = timee.split()\n",
    "    if(settime[3] == '22:03:30'):\n",
    "        print(\"Welcome\")\n",
    "        break"
   ]
  },
  {
   "cell_type": "code",
   "execution_count": 1,
   "metadata": {},
   "outputs": [
    {
     "ename": "NameError",
     "evalue": "name 'start' is not defined",
     "output_type": "error",
     "traceback": [
      "\u001b[1;31m---------------------------------------------------------------------------\u001b[0m",
      "\u001b[1;31mNameError\u001b[0m                                 Traceback (most recent call last)",
      "\u001b[1;32m<ipython-input-1-e5a5c29134d3>\u001b[0m in \u001b[0;36m<module>\u001b[1;34m\u001b[0m\n\u001b[0;32m      6\u001b[0m \u001b[1;32mfrom\u001b[0m \u001b[0mcollections\u001b[0m \u001b[1;32mimport\u001b[0m \u001b[0mCounter\u001b[0m\u001b[1;33m\u001b[0m\u001b[1;33m\u001b[0m\u001b[0m\n\u001b[0;32m      7\u001b[0m \u001b[1;32mif\u001b[0m \u001b[0m__name__\u001b[0m \u001b[1;33m==\u001b[0m \u001b[1;34m'__main__'\u001b[0m\u001b[1;33m:\u001b[0m\u001b[1;33m\u001b[0m\u001b[1;33m\u001b[0m\u001b[0m\n\u001b[1;32m----> 8\u001b[1;33m     \u001b[0mstart\u001b[0m\u001b[1;33m(\u001b[0m\u001b[1;34m\"http://mysmallwebpage.com/\"\u001b[0m\u001b[1;33m)\u001b[0m\u001b[1;33m\u001b[0m\u001b[1;33m\u001b[0m\u001b[0m\n\u001b[0m\u001b[0;32m      9\u001b[0m     \u001b[0mwordlist\u001b[0m \u001b[1;33m=\u001b[0m \u001b[1;33m[\u001b[0m\u001b[1;33m]\u001b[0m\u001b[1;33m\u001b[0m\u001b[1;33m\u001b[0m\u001b[0m\n\u001b[0;32m     10\u001b[0m     \u001b[0mcode\u001b[0m \u001b[1;33m=\u001b[0m \u001b[0mrequests\u001b[0m\u001b[1;33m.\u001b[0m\u001b[0mget\u001b[0m\u001b[1;33m(\u001b[0m\u001b[0murl\u001b[0m\u001b[1;33m)\u001b[0m\u001b[1;33m.\u001b[0m\u001b[0mtext\u001b[0m\u001b[1;33m\u001b[0m\u001b[1;33m\u001b[0m\u001b[0m\n",
      "\u001b[1;31mNameError\u001b[0m: name 'start' is not defined"
     ]
    }
   ],
   "source": [
    "# Python3 program for a word frequency \n",
    "# counter after crawling a web-page \n",
    "import requests \n",
    "from bs4 import BeautifulSoup \n",
    "import operator \n",
    "from collections import Counter \n",
    "if __name__ == '__main__':\n",
    "    start(\"http://mysmallwebpage.com/\") \n",
    "    wordlist = [] \n",
    "    code = requests.get(url).text \n",
    "    soup = BeautifulSoup(code, 'html.parser') \n",
    "    for etext in soup.findAll('div', {'class':'page'}):\n",
    "        cont = etext.text\n",
    "        words = cont.lower().split()\n",
    "        for eword in words:\n",
    "            wordl.append(eword)\n",
    "            cwordl(wordl) \n",
    "\n",
    "def cwordl(wordl):\n",
    "    clist =[] \n",
    "    for word in wordl:\n",
    "        symbols = '!@#$%^&*()_-+={[}]|\\;:\"<>?/., '\n",
    "        for i in range (0, len(symbols)):\n",
    "            word = word.replace(symbols[i], '')\n",
    "            if len(word) > 0:\n",
    "                clist.append(word)\n",
    "                cdictionary(clist) \n",
    "def cdictionary(clist):\n",
    "    wcount = {}\n",
    "    for word in clist:\n",
    "        if word in wcount:\n",
    "            wcount[word] += 1\n",
    "        else:\n",
    "            wcount[word] = 1\n",
    "        c = Counter(wcount)\n",
    "        top = c.most(10)\n",
    "        print(top)\n",
    "        print(wcount)\n",
    "if __name__ == '__main__':\n",
    "    start(\"https://www.name-generator.org.uk/nickname/\") \n"
   ]
  },
  {
   "cell_type": "code",
   "execution_count": null,
   "metadata": {
    "scrolled": true
   },
   "outputs": [],
   "source": [
    "import requests \n",
    "from bs4 import BeautifulSoup \n",
    "import operator \n",
    "from collections import Counter \n",
    "def start(url):\n",
    "    wordl = []\n",
    "    code = requests.get(url).text\n",
    "    soup = BeautifulSoup(code, 'html.parser') \n",
    "    for alltext in soup.findAll('div', {'class':'journal-entry-text'}): \n",
    "        content = alltext.text \n",
    "        words = content.lower().split() \n",
    "        for eword in words: \n",
    "            wordl.append(eword) \n",
    "        cwordl(wordl)  \n",
    "def cwordl(wordl): \n",
    "    clist =[] \n",
    "    for word in wordl: \n",
    "        symbols = '!@#$%^&*()_-+={[}]|\\;:\"<>?/., '\n",
    "        for i in range (0, len(symbols)): \n",
    "            word = word.replace(symbols[i], '')\n",
    "        if len(word) > 0: \n",
    "            clist.append(word) \n",
    "    make_dictionary(clist) \n",
    "def make_dictionary(clist): \n",
    "    word_count = {} \n",
    "    for word in clist: \n",
    "        if word in word_count: \n",
    "            word_count[word] += 1\n",
    "        else: \n",
    "            word_count[word] = 1\n",
    "    c = Counter(word_count)  \n",
    "    top = c.most_common(10) \n",
    "    print(top)\n",
    "    print('\\n')\n",
    "if __name__ == '__main__':\n",
    "    start(\"http://mysmallwebpage.com\")"
   ]
  },
  {
   "cell_type": "code",
   "execution_count": null,
   "metadata": {},
   "outputs": [],
   "source": []
  }
 ],
 "metadata": {
  "kernelspec": {
   "display_name": "Python 3",
   "language": "python",
   "name": "python3"
  },
  "language_info": {
   "codemirror_mode": {
    "name": "ipython",
    "version": 3
   },
   "file_extension": ".py",
   "mimetype": "text/x-python",
   "name": "python",
   "nbconvert_exporter": "python",
   "pygments_lexer": "ipython3",
   "version": "3.7.3"
  }
 },
 "nbformat": 4,
 "nbformat_minor": 2
}
