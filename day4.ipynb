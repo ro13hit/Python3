{
 "cells": [
  {
   "cell_type": "code",
   "execution_count": 2,
   "metadata": {},
   "outputs": [
    {
     "ename": "ModuleNotFoundError",
     "evalue": "No module named 'mysql'",
     "output_type": "error",
     "traceback": [
      "\u001b[1;31m---------------------------------------------------------------------------\u001b[0m",
      "\u001b[1;31mModuleNotFoundError\u001b[0m                       Traceback (most recent call last)",
      "\u001b[1;32m<ipython-input-2-9cd6224ba968>\u001b[0m in \u001b[0;36m<module>\u001b[1;34m\u001b[0m\n\u001b[1;32m----> 1\u001b[1;33m \u001b[1;32mimport\u001b[0m \u001b[0mmysql\u001b[0m\u001b[1;33m.\u001b[0m\u001b[0mconnector\u001b[0m\u001b[1;33m\u001b[0m\u001b[1;33m\u001b[0m\u001b[0m\n\u001b[0m",
      "\u001b[1;31mModuleNotFoundError\u001b[0m: No module named 'mysql'"
     ]
    }
   ],
   "source": [
    "import mysql.connector"
   ]
  },
  {
   "cell_type": "code",
   "execution_count": 1,
   "metadata": {},
   "outputs": [
    {
     "name": "stdout",
     "output_type": "stream",
     "text": [
      "HI rohit\n"
     ]
    }
   ],
   "source": [
    "def fun(x):\n",
    "    print(\"HI\"+\" \"+x)\n",
    "fun('rohit')"
   ]
  },
  {
   "cell_type": "code",
   "execution_count": 3,
   "metadata": {},
   "outputs": [
    {
     "name": "stdout",
     "output_type": "stream",
     "text": [
      "you entered rg\n"
     ]
    }
   ],
   "source": [
    "def two(y):\n",
    "    print(\"you entered\"+\" \"+y)\n",
    "two('rg')"
   ]
  },
  {
   "cell_type": "code",
   "execution_count": 1,
   "metadata": {},
   "outputs": [
    {
     "ename": "NameError",
     "evalue": "name 'fun' is not defined",
     "output_type": "error",
     "traceback": [
      "\u001b[1;31m---------------------------------------------------------------------------\u001b[0m",
      "\u001b[1;31mNameError\u001b[0m                                 Traceback (most recent call last)",
      "\u001b[1;32m<ipython-input-1-436d5ad934e4>\u001b[0m in \u001b[0;36m<module>\u001b[1;34m\u001b[0m\n\u001b[1;32m----> 1\u001b[1;33m \u001b[0mfun\u001b[0m\u001b[1;33m(\u001b[0m\u001b[1;34m'ninja'\u001b[0m\u001b[1;33m)\u001b[0m\u001b[1;33m\u001b[0m\u001b[1;33m\u001b[0m\u001b[0m\n\u001b[0m",
      "\u001b[1;31mNameError\u001b[0m: name 'fun' is not defined"
     ]
    }
   ],
   "source": [
    "fun('ninja')"
   ]
  },
  {
   "cell_type": "code",
   "execution_count": 2,
   "metadata": {},
   "outputs": [
    {
     "ename": "NameError",
     "evalue": "name 'two' is not defined",
     "output_type": "error",
     "traceback": [
      "\u001b[1;31m---------------------------------------------------------------------------\u001b[0m",
      "\u001b[1;31mNameError\u001b[0m                                 Traceback (most recent call last)",
      "\u001b[1;32m<ipython-input-2-28cff19ef22a>\u001b[0m in \u001b[0;36m<module>\u001b[1;34m\u001b[0m\n\u001b[1;32m----> 1\u001b[1;33m \u001b[0mtwo\u001b[0m\u001b[1;33m(\u001b[0m\u001b[1;34m'ninja'\u001b[0m\u001b[1;33m)\u001b[0m\u001b[1;33m\u001b[0m\u001b[1;33m\u001b[0m\u001b[0m\n\u001b[0m",
      "\u001b[1;31mNameError\u001b[0m: name 'two' is not defined"
     ]
    }
   ],
   "source": [
    "two('ninja')"
   ]
  },
  {
   "cell_type": "code",
   "execution_count": 3,
   "metadata": {},
   "outputs": [],
   "source": [
    "import threading"
   ]
  },
  {
   "cell_type": "code",
   "execution_count": 4,
   "metadata": {},
   "outputs": [
    {
     "name": "stdout",
     "output_type": "stream",
     "text": [
      "you entered rg\n"
     ]
    }
   ],
   "source": [
    "def two(y):\n",
    "    print(\"you entered\"+\" \"+y)\n",
    "two('rg')"
   ]
  },
  {
   "cell_type": "code",
   "execution_count": 5,
   "metadata": {},
   "outputs": [],
   "source": [
    "def two(y):\n",
    "    print(\"you entered\"+\" \"+y)"
   ]
  },
  {
   "cell_type": "code",
   "execution_count": 6,
   "metadata": {},
   "outputs": [
    {
     "name": "stdout",
     "output_type": "stream",
     "text": [
      "you entered ninja\n"
     ]
    }
   ],
   "source": [
    "two('ninja')"
   ]
  },
  {
   "cell_type": "code",
   "execution_count": 8,
   "metadata": {},
   "outputs": [],
   "source": [
    "def fun(x):\n",
    "    print(\"HI\"+\" \"+x)"
   ]
  },
  {
   "cell_type": "code",
   "execution_count": 9,
   "metadata": {},
   "outputs": [
    {
     "ename": "SyntaxError",
     "evalue": "positional argument follows keyword argument (<ipython-input-9-cb923886f4d0>, line 1)",
     "output_type": "error",
     "traceback": [
      "\u001b[1;36m  File \u001b[1;32m\"<ipython-input-9-cb923886f4d0>\"\u001b[1;36m, line \u001b[1;32m1\u001b[0m\n\u001b[1;33m    t1=threading.Thread(target=two(),'ninja')\u001b[0m\n\u001b[1;37m                                    ^\u001b[0m\n\u001b[1;31mSyntaxError\u001b[0m\u001b[1;31m:\u001b[0m positional argument follows keyword argument\n"
     ]
    }
   ],
   "source": [
    "t1=threading.Thread(target=two(),'ninja')\n",
    "t2=threading.Thread(target=fun(),'rohit')\n",
    "t1.start()\n",
    "t2.star()\n",
    "t1.join()\n",
    "t2.join()\n",
    "print('working')"
   ]
  },
  {
   "cell_type": "code",
   "execution_count": 10,
   "metadata": {},
   "outputs": [],
   "source": [
    "import threading"
   ]
  },
  {
   "cell_type": "code",
   "execution_count": 11,
   "metadata": {},
   "outputs": [
    {
     "ename": "SyntaxError",
     "evalue": "invalid syntax (<ipython-input-11-a712c02ca301>, line 2)",
     "output_type": "error",
     "traceback": [
      "\u001b[1;36m  File \u001b[1;32m\"<ipython-input-11-a712c02ca301>\"\u001b[1;36m, line \u001b[1;32m2\u001b[0m\n\u001b[1;33m    t1=threading.Thread(target=two()'ninja')\u001b[0m\n\u001b[1;37m                                          ^\u001b[0m\n\u001b[1;31mSyntaxError\u001b[0m\u001b[1;31m:\u001b[0m invalid syntax\n"
     ]
    }
   ],
   "source": [
    "if(__name__==\"__main__\"):\n",
    "    t1=threading.Thread(target=two()'ninja')\n",
    "    t2=threading.Thread(target=fun()'rohit')\n",
    "    t1.start()\n",
    "    t2.start()\n",
    "    t1.join()\n",
    "    t2.join()\n",
    "    print('working')"
   ]
  },
  {
   "cell_type": "code",
   "execution_count": 23,
   "metadata": {},
   "outputs": [
    {
     "name": "stdout",
     "output_type": "stream",
     "text": [
      "you entered rohit\n",
      "HI ninja\n",
      "working\n"
     ]
    }
   ],
   "source": [
    "if(__name__==\"__main__\"):\n",
    "    t1=threading.Thread(target=two,args=(\"rohit\",))\n",
    "    t2=threading.Thread(target=fun,args=(\"ninja\",))\n",
    "    t1.start()\n",
    "    t2.start()\n",
    "    t1.join()\n",
    "    t2.join()\n",
    "    print('working')"
   ]
  },
  {
   "cell_type": "code",
   "execution_count": 24,
   "metadata": {},
   "outputs": [],
   "source": [
    "import threading\n",
    "import mymod"
   ]
  },
  {
   "cell_type": "code",
   "execution_count": 25,
   "metadata": {},
   "outputs": [
    {
     "ename": "SyntaxError",
     "evalue": "invalid syntax (<ipython-input-25-43856ed63c8b>, line 3)",
     "output_type": "error",
     "traceback": [
      "\u001b[1;36m  File \u001b[1;32m\"<ipython-input-25-43856ed63c8b>\"\u001b[1;36m, line \u001b[1;32m3\u001b[0m\n\u001b[1;33m    if(__name__==\"__main__\")t1=threading.Thread(target=fall,args=(\"l=[1,2,3,4,5,6]\",))\u001b[0m\n\u001b[1;37m                             ^\u001b[0m\n\u001b[1;31mSyntaxError\u001b[0m\u001b[1;31m:\u001b[0m invalid syntax\n"
     ]
    }
   ],
   "source": [
    "try:\n",
    "    Name=input(\"ENTER THE NAME FOR FILE YOU WANT TO CREATE:\")\n",
    "    if(__name__==\"__main__\")t1=threading.Thread(target=fall,args=(\"l=[1,2,3,4,5,6]\",))\n",
    "    t2=threading.Thread(target=second,args=(\"%s\"%Name,))\n",
    "    t3=threading.Thread(target=opening)\n",
    "    t1.start()\n",
    "    t2.start()\n",
    "    t3.start()\n",
    "    t1.join()\n",
    "    t2.join()\n",
    "    t3.join()\n",
    "    print(\"EVERYTHING I GOT\")"
   ]
  },
  {
   "cell_type": "code",
   "execution_count": 41,
   "metadata": {},
   "outputs": [
    {
     "name": "stdout",
     "output_type": "stream",
     "text": [
      "ENTER THE NAME FOR FILE YOU WANT TO CREATE:texter.txt\n",
      "BYE BYE\n",
      "BYE BYE\n",
      "going in\n",
      "BYE BYE\n",
      "last coming\n",
      "BYE BYE\n",
      "hey\n",
      "THANK YOU\n"
     ]
    }
   ],
   "source": [
    "try:\n",
    "    l=[1,2,3,4,5,6]\n",
    "    Name=input(\"ENTER THE NAME FOR FILE YOU WANT TO CREATE:\")\n",
    "    if(__name__==\"__main__\"):\n",
    "        t1=threading.Thread(target=mymod.fall,args=(l,))\n",
    "        t2=threading.Thread(target=mymod.second,args=(\"%s\"%Name,))\n",
    "        t3=threading.Thread(target=mymod.opening,args=())\n",
    "        t1.start()\n",
    "        t2.start()\n",
    "        t3.start()\n",
    "        t1.join()\n",
    "        t2.join()\n",
    "        t3.join()\n",
    "        print(\"hey\")\n",
    "except:\n",
    "    print(\"SOMETHING WENT WRONG\")\n",
    "finally:\n",
    "    print(\"THANK YOU\")"
   ]
  },
  {
   "cell_type": "code",
   "execution_count": 36,
   "metadata": {},
   "outputs": [
    {
     "name": "stdout",
     "output_type": "stream",
     "text": [
      "ENTER THE NAME FOR FILE YOU WANT TO CREATE:roo.txt\n",
      "Enter url:d\n",
      "BYE BYE\n",
      "BYE BYE\n",
      "going in\n",
      "BYE BYE\n",
      "last coming\n",
      "BYE BYE\n",
      "hey\n"
     ]
    }
   ],
   "source": [
    "l=[1,2,3,4,5,6]\n",
    "Name=input(\"ENTER THE NAME FOR FILE YOU WANT TO CREATE:\")\n",
    "if(__name__==\"__main__\"):\n",
    "    t1=threading.Thread(target=mymod.fall,args=(l,))\n",
    "    t2=threading.Thread(target=mymod.second,args=(\"%s\"%Name,))\n",
    "    t3=threading.Thread(target=mymod.opening,args=())\n",
    "    t1.start()\n",
    "    t2.start()\n",
    "    t3.start()\n",
    "    t1.join()\n",
    "    t2.join()\n",
    "    t3.join()\n",
    "    print(\"hey\")"
   ]
  },
  {
   "cell_type": "code",
   "execution_count": null,
   "metadata": {},
   "outputs": [],
   "source": []
  },
  {
   "cell_type": "code",
   "execution_count": 43,
   "metadata": {},
   "outputs": [
    {
     "ename": "ModuleNotFoundError",
     "evalue": "No module named 'BS4'",
     "output_type": "error",
     "traceback": [
      "\u001b[1;31m---------------------------------------------------------------------------\u001b[0m",
      "\u001b[1;31mModuleNotFoundError\u001b[0m                       Traceback (most recent call last)",
      "\u001b[1;32m<ipython-input-43-248f614e112c>\u001b[0m in \u001b[0;36m<module>\u001b[1;34m\u001b[0m\n\u001b[1;32m----> 1\u001b[1;33m \u001b[1;32mfrom\u001b[0m \u001b[0mBS4\u001b[0m \u001b[1;32mimport\u001b[0m \u001b[0mbeautifulsoup\u001b[0m\u001b[1;33m\u001b[0m\u001b[1;33m\u001b[0m\u001b[0m\n\u001b[0m",
      "\u001b[1;31mModuleNotFoundError\u001b[0m: No module named 'BS4'"
     ]
    }
   ],
   "source": [
    "from BS4 import beautifulsoup"
   ]
  },
  {
   "cell_type": "code",
   "execution_count": 44,
   "metadata": {},
   "outputs": [],
   "source": [
    "from bs4 import BeautifulSoup"
   ]
  },
  {
   "cell_type": "code",
   "execution_count": 46,
   "metadata": {},
   "outputs": [],
   "source": [
    "import requests"
   ]
  },
  {
   "cell_type": "code",
   "execution_count": 57,
   "metadata": {},
   "outputs": [],
   "source": [
    "url=requests.get(\"https://www.cricbuzz.com\")"
   ]
  },
  {
   "cell_type": "code",
   "execution_count": 58,
   "metadata": {},
   "outputs": [
    {
     "name": "stdout",
     "output_type": "stream",
     "text": [
      "<Response [200]>\n"
     ]
    }
   ],
   "source": [
    "print(url)"
   ]
  },
  {
   "cell_type": "code",
   "execution_count": 50,
   "metadata": {},
   "outputs": [
    {
     "data": {
      "text/plain": [
       "'<!doctype html><html itemscope=\"\" itemtype=\"http://schema.org/WebPage\" lang=\"en-IN\"><head><meta content=\"text/html; charset=UTF-8\" http-equiv=\"Content-Type\"><meta content=\"/images/branding/googleg/1x/googleg_standard_color_128dp.png\" itemprop=\"image\"><title>Google</title><script nonce=\"IU7SzsHtrxbRtWbGoRibYA==\">(function(){window.google={kEI:\\'KTQXXdhvwe31A_e0ltgO\\',kEXPI:\\'0,18167,1335637,1958,2422,1225,591,139,224,510,1065,3151,58,320,207,1017,176,51,666,223,87,281,27,213,85,94,205,1133605,1197874,303232,26305,1294,12383,4855,32692,15247,867,12163,6381,3335,2,2,6801,364,3319,5505,224,2218,260,5107,575,835,284,2,579,727,2068,364,58,2,2,2,1297,4325,3696,1269,774,2255,1402,2487,850,7,1139,9,1743,216,2599,3601,669,1050,1808,1397,81,7,3,490,2042,5762,1,3146,5297,796,1220,38,919,755,1334,1338,28,1611,2728,7,1559,1503,2,215,1,415,2403,837,44,2376,2407,2367,240,12,622,2226,656,20,317,690,428,475,427,104,86,2,961,198,777,1,368,1319,80,623,756,98,392,29,400,262,730,1107,10,168,8,109,1018,1495,174,967,48,553,11,14,10,1269,390,652,394,777,24,177,168,155,5,1245,7,840,324,193,531,371,166,416,38,158,544,118,1464,201,1,765,167,22,152,666,260,46,6,1132,4,3,7,7,3,109,1383,554,606,795,1036,8,184,368,177,3,47,943,239,18,124,378,21,340,157,168,658,77,395,131,81,472,196,27,216,72,112,221,7,120,798,330,12,15,1255,15,85,135,201,916,24,929,117,78,17,302,64,7,53,144,619,154,80,736,10,504,246,181,46,143,108,258,108,87,338,9,125,614,8,41,230,61,437,2,105,7,203,2,240,596,1753,1125,416,81,5918954,2886,5997644,2799810,194,1382,549,333,444,1,2,80,1,900,583,9,304,1,8,1,2,2132,1,1,1,1,1,414,1,748,141,59,726,3,7,563,1,2346,271,141,67,14,1,7,1,21,9,4,8,6,10,7,8,22304217\\',authuser:0,kscs:\\'c9c918f0_KTQXXdhvwe31A_e0ltgO\\',kGL:\\'IN\\'};google.sn=\\'webhp\\';google.kHL=\\'en-IN\\';})();(function(){google.lc=[];google.li=0;google.getEI=function(a){for(var b;a&&(!a.getAttribute||!(b=a.getAttribute(\"eid\")));)a=a.parentNode;return b||google.kEI};google.getLEI=function(a){for(var b=null;a&&(!a.getAttribute||!(b=a.getAttribute(\"leid\")));)a=a.parentNode;return b};google.https=function(){return\"https:\"==window.location.protocol};google.ml=function(){return null};google.time=function(){return(new Date).getTime()};google.log=function(a,b,e,c,g){if(a=google.logUrl(a,b,e,c,g)){b=new Image;var d=google.lc,f=google.li;d[f]=b;b.onerror=b.onload=b.onabort=function(){delete d[f]};google.vel&&google.vel.lu&&google.vel.lu(a);b.src=a;google.li=f+1}};google.logUrl=function(a,b,e,c,g){var d=\"\",f=google.ls||\"\";e||-1!=b.search(\"&ei=\")||(d=\"&ei=\"+google.getEI(c),-1==b.search(\"&lei=\")&&(c=google.getLEI(c))&&(d+=\"&lei=\"+c));c=\"\";!e&&google.cshid&&-1==b.search(\"&cshid=\")&&\"slh\"!=a&&(c=\"&cshid=\"+google.cshid);a=e||\"/\"+(g||\"gen_204\")+\"?atyp=i&ct=\"+a+\"&cad=\"+b+d+f+\"&zx=\"+google.time()+c;/^http:/i.test(a)&&google.https()&&(google.ml(Error(\"a\"),!1,{src:a,glmm:1}),a=\"\");return a};}).call(this);(function(){google.y={};google.x=function(a,b){if(a)var c=a.id;else{do c=Math.random();while(google.y[c])}google.y[c]=[a,b];return!1};google.lm=[];google.plm=function(a){google.lm.push.apply(google.lm,a)};google.lq=[];google.load=function(a,b,c){google.lq.push([[a],b,c])};google.loadAll=function(a,b){google.lq.push([a,b])};}).call(this);google.f={};var a=window.location,b=a.href.indexOf(\"#\");if(0<=b){var c=a.href.substring(b+1);/(^|&)q=/.test(c)&&-1==c.indexOf(\"#\")&&a.replace(\"/search?\"+c.replace(/(^|&)fp=[^&]*/g,\"\")+\"&cad=h\")};</script><style>#gbar,#guser{font-size:13px;padding-top:1px !important;}#gbar{height:22px}#guser{padding-bottom:7px !important;text-align:right}.gbh,.gbd{border-top:1px solid #c9d7f1;font-size:1px}.gbh{height:0;position:absolute;top:24px;width:100%}@media all{.gb1{height:22px;margin-right:.5em;vertical-align:top}#gbar{float:left}}a.gb1,a.gb4{text-decoration:underline !important}a.gb1,a.gb4{color:#00c !important}.gbi .gb4{color:#dd8e27 !important}.gbf .gb4{color:#900 !important}\\n</style><style>body,td,a,p,.h{font-family:arial,sans-serif}body{margin:0;overflow-y:scroll}#gog{padding:3px 8px 0}td{line-height:.8em}.gac_m td{line-height:17px}form{margin-bottom:20px}.h{color:#36c}.q{color:#00c}.ts td{padding:0}.ts{border-collapse:collapse}em{font-weight:bold;font-style:normal}.lst{height:25px;width:496px}.gsfi,.lst{font:18px arial,sans-serif}.gsfs{font:17px arial,sans-serif}.ds{display:inline-box;display:inline-block;margin:3px 0 4px;margin-left:4px}input{font-family:inherit}a.gb1,a.gb2,a.gb3,a.gb4{color:#11c !important}body{background:#fff;color:black}a{color:#11c;text-decoration:none}a:hover,a:active{text-decoration:underline}.fl a{color:#36c}a:visited{color:#551a8b}a.gb1,a.gb4{text-decoration:underline}a.gb3:hover{text-decoration:none}#ghead a.gb2:hover{color:#fff !important}.sblc{padding-top:5px}.sblc a{display:block;margin:2px 0;margin-left:13px;font-size:11px}.lsbb{background:#eee;border:solid 1px;border-color:#ccc #999 #999 #ccc;height:30px}.lsbb{display:block}.ftl,#fll a{display:inline-block;margin:0 12px}.lsb{background:url(/images/nav_logo229.png) 0 -261px repeat-x;border:none;color:#000;cursor:pointer;height:30px;margin:0;outline:0;font:15px arial,sans-serif;vertical-align:top}.lsb:active{background:#ccc}.lst:focus{outline:none}</style><script nonce=\"IU7SzsHtrxbRtWbGoRibYA==\"></script></head><body bgcolor=\"#fff\"><script nonce=\"IU7SzsHtrxbRtWbGoRibYA==\">(function(){var src=\\'/images/nav_logo229.png\\';var iesg=false;document.body.onload = function(){window.n && window.n();if (document.images){new Image().src=src;}\\nif (!iesg){document.f&&document.f.q.focus();document.gbqf&&document.gbqf.q.focus();}\\n}\\n})();</script><div id=\"mngb\"> <div id=gbar><nobr><b class=gb1>Search</b> <a class=gb1 href=\"https://www.google.co.in/imghp?hl=en&tab=wi\">Images</a> <a class=gb1 href=\"https://maps.google.co.in/maps?hl=en&tab=wl\">Maps</a> <a class=gb1 href=\"https://play.google.com/?hl=en&tab=w8\">Play</a> <a class=gb1 href=\"https://www.youtube.com/?gl=IN&tab=w1\">YouTube</a> <a class=gb1 href=\"https://news.google.co.in/nwshp?hl=en&tab=wn\">News</a> <a class=gb1 href=\"https://mail.google.com/mail/?tab=wm\">Gmail</a> <a class=gb1 href=\"https://drive.google.com/?tab=wo\">Drive</a> <a class=gb1 style=\"text-decoration:none\" href=\"https://www.google.co.in/intl/en/about/products?tab=wh\"><u>More</u> &raquo;</a></nobr></div><div id=guser width=100%><nobr><span id=gbn class=gbi></span><span id=gbf class=gbf></span><span id=gbe></span><a href=\"http://www.google.co.in/history/optout?hl=en\" class=gb4>Web History</a> | <a  href=\"/preferences?hl=en\" class=gb4>Settings</a> | <a target=_top id=gb_70 href=\"https://accounts.google.com/ServiceLogin?hl=en&passive=true&continue=https://www.google.com/\" class=gb4>Sign in</a></nobr></div><div class=gbh style=left:0></div><div class=gbh style=right:0></div> </div><center><br clear=\"all\" id=\"lgpd\"><div id=\"lga\"><img alt=\"Google\" height=\"92\" src=\"/images/branding/googlelogo/1x/googlelogo_white_background_color_272x92dp.png\" style=\"padding:28px 0 14px\" width=\"272\" id=\"hplogo\"><br><br></div><form action=\"/search\" name=\"f\"><table cellpadding=\"0\" cellspacing=\"0\"><tr valign=\"top\"><td width=\"25%\">&nbsp;</td><td align=\"center\" nowrap=\"\"><input name=\"ie\" value=\"ISO-8859-1\" type=\"hidden\"><input value=\"en-IN\" name=\"hl\" type=\"hidden\"><input name=\"source\" type=\"hidden\" value=\"hp\"><input name=\"biw\" type=\"hidden\"><input name=\"bih\" type=\"hidden\"><div class=\"ds\" style=\"height:32px;margin:4px 0\"><input style=\"color:#000;margin:0;padding:5px 8px 0 6px;vertical-align:top\" autocomplete=\"off\" class=\"lst\" value=\"\" title=\"Google Search\" maxlength=\"2048\" name=\"q\" size=\"57\"></div><br style=\"line-height:0\"><span class=\"ds\"><span class=\"lsbb\"><input class=\"lsb\" value=\"Google Search\" name=\"btnG\" type=\"submit\"></span></span><span class=\"ds\"><span class=\"lsbb\"><input class=\"lsb\" value=\"I\\'m Feeling Lucky\" name=\"btnI\" onclick=\"if(this.form.q.value)this.checked=1; else top.location=\\'/doodles/\\'\" type=\"submit\"></span></span></td><td class=\"fl sblc\" align=\"left\" nowrap=\"\" width=\"25%\"><a href=\"/advanced_search?hl=en-IN&amp;authuser=0\">Advanced search</a><a href=\"/language_tools?hl=en-IN&amp;authuser=0\">Language tools</a></td></tr></table><input id=\"gbv\" name=\"gbv\" type=\"hidden\" value=\"1\"><script nonce=\"IU7SzsHtrxbRtWbGoRibYA==\">(function(){var a,b=\"1\";if(document&&document.getElementById)if(\"undefined\"!=typeof XMLHttpRequest)b=\"2\";else if(\"undefined\"!=typeof ActiveXObject){var c,d,e=[\"MSXML2.XMLHTTP.6.0\",\"MSXML2.XMLHTTP.3.0\",\"MSXML2.XMLHTTP\",\"Microsoft.XMLHTTP\"];for(c=0;d=e[c++];)try{new ActiveXObject(d),b=\"2\"}catch(h){}}a=b;if(\"2\"==a&&-1==location.search.indexOf(\"&gbv=2\")){var f=google.gbvu,g=document.getElementById(\"gbv\");g&&(g.value=a);f&&window.setTimeout(function(){location.href=f},0)};}).call(this);</script></form><div id=\"gac_scont\"></div><div style=\"font-size:83%;min-height:3.5em\"><br><div id=\"gws-output-pages-elements-homepage_additional_languages__als\"><style>#gws-output-pages-elements-homepage_additional_languages__als{font-size:small;margin-bottom:24px}#SIvCob{display:inline-block;line-height:28px;}#SIvCob a{padding:0 3px;}.H6sW5{display:inline-block;margin:0 2px;white-space:nowrap}.z4hgWe{display:inline-block;margin:0 2px}</style><div id=\"SIvCob\">Google offered in:  <a href=\"https://www.google.com/setprefs?sig=0_oWqKQJHh40LrK2jGeLEq4g76PKc%3D&amp;hl=hi&amp;source=homepage&amp;sa=X&amp;ved=0ahUKEwiYqJv9tI7jAhXBdn0KHXeaBesQ2ZgBCAU\">&#2361;&#2367;&#2344;&#2381;&#2342;&#2368;</a>    <a href=\"https://www.google.com/setprefs?sig=0_oWqKQJHh40LrK2jGeLEq4g76PKc%3D&amp;hl=bn&amp;source=homepage&amp;sa=X&amp;ved=0ahUKEwiYqJv9tI7jAhXBdn0KHXeaBesQ2ZgBCAY\">&#2476;&#2494;&#2434;&#2482;&#2494;</a>    <a href=\"https://www.google.com/setprefs?sig=0_oWqKQJHh40LrK2jGeLEq4g76PKc%3D&amp;hl=te&amp;source=homepage&amp;sa=X&amp;ved=0ahUKEwiYqJv9tI7jAhXBdn0KHXeaBesQ2ZgBCAc\">&#3108;&#3142;&#3122;&#3137;&#3095;&#3137;</a>    <a href=\"https://www.google.com/setprefs?sig=0_oWqKQJHh40LrK2jGeLEq4g76PKc%3D&amp;hl=mr&amp;source=homepage&amp;sa=X&amp;ved=0ahUKEwiYqJv9tI7jAhXBdn0KHXeaBesQ2ZgBCAg\">&#2350;&#2352;&#2366;&#2336;&#2368;</a>    <a href=\"https://www.google.com/setprefs?sig=0_oWqKQJHh40LrK2jGeLEq4g76PKc%3D&amp;hl=ta&amp;source=homepage&amp;sa=X&amp;ved=0ahUKEwiYqJv9tI7jAhXBdn0KHXeaBesQ2ZgBCAk\">&#2980;&#2990;&#3007;&#2996;&#3021;</a>    <a href=\"https://www.google.com/setprefs?sig=0_oWqKQJHh40LrK2jGeLEq4g76PKc%3D&amp;hl=gu&amp;source=homepage&amp;sa=X&amp;ved=0ahUKEwiYqJv9tI7jAhXBdn0KHXeaBesQ2ZgBCAo\">&#2711;&#2753;&#2716;&#2736;&#2750;&#2724;&#2752;</a>    <a href=\"https://www.google.com/setprefs?sig=0_oWqKQJHh40LrK2jGeLEq4g76PKc%3D&amp;hl=kn&amp;source=homepage&amp;sa=X&amp;ved=0ahUKEwiYqJv9tI7jAhXBdn0KHXeaBesQ2ZgBCAs\">&#3221;&#3240;&#3277;&#3240;&#3233;</a>    <a href=\"https://www.google.com/setprefs?sig=0_oWqKQJHh40LrK2jGeLEq4g76PKc%3D&amp;hl=ml&amp;source=homepage&amp;sa=X&amp;ved=0ahUKEwiYqJv9tI7jAhXBdn0KHXeaBesQ2ZgBCAw\">&#3374;&#3378;&#3375;&#3390;&#3379;&#3330;</a>    <a href=\"https://www.google.com/setprefs?sig=0_oWqKQJHh40LrK2jGeLEq4g76PKc%3D&amp;hl=pa&amp;source=homepage&amp;sa=X&amp;ved=0ahUKEwiYqJv9tI7jAhXBdn0KHXeaBesQ2ZgBCA0\">&#2602;&#2672;&#2588;&#2622;&#2604;&#2624;</a>  </div></div></div><span id=\"footer\"><div style=\"font-size:10pt\"><div style=\"margin:19px auto;text-align:center\" id=\"fll\"><a href=\"/intl/en/ads/\">Advertising\\xa0Programs</a><a href=\"http://www.google.co.in/services/\">Business Solutions</a><a href=\"/intl/en/about.html\">About Google</a><a href=\"https://www.google.com/setprefdomain?prefdom=IN&amp;prev=https://www.google.co.in/&amp;sig=K_yb02gvoArmbMtcrIRGydjlOC0ek%3D\">Google.co.in</a></div></div><p style=\"color:#767676;font-size:8pt\">&copy; 2019 - <a href=\"/intl/en/policies/privacy/\">Privacy</a> - <a href=\"/intl/en/policies/terms/\">Terms</a></p></span></center><script nonce=\"IU7SzsHtrxbRtWbGoRibYA==\">(function(){window.google.cdo={height:0,width:0};(function(){var a=window.innerWidth,b=window.innerHeight;if(!a||!b){var c=window.document,d=\"CSS1Compat\"==c.compatMode?c.documentElement:c.body;a=d.clientWidth;b=d.clientHeight}a&&b&&(a!=google.cdo.width||b!=google.cdo.height)&&google.log(\"\",\"\",\"/client_204?&atyp=i&biw=\"+a+\"&bih=\"+b+\"&ei=\"+google.kEI);}).call(this);})();(function(){var u=\\'/xjs/_/js/k\\\\x3dxjs.hp.en.0nSJAsQUWGc.O/m\\\\x3dsb_he,d/am\\\\x3dABbUBA/d\\\\x3d1/rs\\\\x3dACT90oEmsHxrg988uKOTvQPQfdMAHTIEqQ\\';setTimeout(function(){var a=document.createElement(\"script\");a.src=u;google.timers&&google.timers.load&&google.tick&&google.tick(\"load\",\"xjsls\");document.body.appendChild(a)},0);})();(function(){window.google.xjsu=\\'/xjs/_/js/k\\\\x3dxjs.hp.en.0nSJAsQUWGc.O/m\\\\x3dsb_he,d/am\\\\x3dABbUBA/d\\\\x3d1/rs\\\\x3dACT90oEmsHxrg988uKOTvQPQfdMAHTIEqQ\\';})();function _DumpException(e){throw e;}\\nfunction _F_installCss(c){}\\n(function(){google.spjs=false;google.snet=true;google.em=[];google.emw=false;})();google.sm=1;(function(){var pmc=\\'{\\\\x22Qnk92g\\\\x22:{},\\\\x22RWGcrA\\\\x22:{},\\\\x22U5B21g\\\\x22:{},\\\\x22YFCs/g\\\\x22:{},\\\\x22ZI/YVQ\\\\x22:{},\\\\x22d\\\\x22:{},\\\\x22mVopag\\\\x22:{},\\\\x22sb_he\\\\x22:{\\\\x22agen\\\\x22:true,\\\\x22cgen\\\\x22:true,\\\\x22client\\\\x22:\\\\x22heirloom-hp\\\\x22,\\\\x22dh\\\\x22:true,\\\\x22dhqt\\\\x22:true,\\\\x22ds\\\\x22:\\\\x22\\\\x22,\\\\x22ffql\\\\x22:\\\\x22en\\\\x22,\\\\x22fl\\\\x22:true,\\\\x22host\\\\x22:\\\\x22google.com\\\\x22,\\\\x22isbh\\\\x22:28,\\\\x22jsonp\\\\x22:true,\\\\x22msgs\\\\x22:{\\\\x22cibl\\\\x22:\\\\x22Clear Search\\\\x22,\\\\x22dym\\\\x22:\\\\x22Did you mean:\\\\x22,\\\\x22lcky\\\\x22:\\\\x22I\\\\\\\\u0026#39;m Feeling Lucky\\\\x22,\\\\x22lml\\\\x22:\\\\x22Learn more\\\\x22,\\\\x22oskt\\\\x22:\\\\x22Input tools\\\\x22,\\\\x22psrc\\\\x22:\\\\x22This search was removed from your \\\\\\\\u003Ca href\\\\x3d\\\\\\\\\\\\x22/history\\\\\\\\\\\\x22\\\\\\\\u003EWeb History\\\\\\\\u003C/a\\\\\\\\u003E\\\\x22,\\\\x22psrl\\\\x22:\\\\x22Remove\\\\x22,\\\\x22sbit\\\\x22:\\\\x22Search by image\\\\x22,\\\\x22srch\\\\x22:\\\\x22Google Search\\\\x22},\\\\x22ovr\\\\x22:{},\\\\x22pq\\\\x22:\\\\x22\\\\x22,\\\\x22refpd\\\\x22:true,\\\\x22rfs\\\\x22:[],\\\\x22sbpl\\\\x22:24,\\\\x22sbpr\\\\x22:24,\\\\x22scd\\\\x22:10,\\\\x22sce\\\\x22:5,\\\\x22stok\\\\x22:\\\\x22e0CyK3oqVk_6uIEzvpla65QTFGY\\\\x22,\\\\x22uhde\\\\x22:false}}\\';google.pmc=JSON.parse(pmc);})();</script>        </body></html>'"
      ]
     },
     "execution_count": 50,
     "metadata": {},
     "output_type": "execute_result"
    }
   ],
   "source": [
    "url.text"
   ]
  },
  {
   "cell_type": "code",
   "execution_count": 59,
   "metadata": {},
   "outputs": [],
   "source": [
    "soup=url.text"
   ]
  },
  {
   "cell_type": "code",
   "execution_count": 60,
   "metadata": {},
   "outputs": [],
   "source": [
    "s=BeautifulSoup(soup,\"html.parser\")"
   ]
  },
  {
   "cell_type": "code",
   "execution_count": 61,
   "metadata": {},
   "outputs": [
    {
     "name": "stdout",
     "output_type": "stream",
     "text": [
      "\n",
      "<!DOCTYPE html>\n",
      "<html itemscope=\"\" itemtype=\"http://schema.org/WebPage\" lang=\"en\"><head><meta charset=\"utf-8\"/><script>var is_mobile = /symbian|tizen|midp|uc(web|browser)|MSIE (5.0|6.0|7.0|8.0)|tablet/i.test(navigator.userAgent);\tif(is_mobile && window.location.hostname != \"www1.cricbuzz.com\") window.location.hostname = \"m.cricbuzz.com\";</script><style>body{background:#E3E6E3; font-family: helvetica,\"Segoe UI\",Arial,sans-serif;color:#222;font-size:14px; line-height: 1.5; margin:0;}\tbody, .cb-comm-pg, .cb-hm-mid {min-height:1000px}\t.container{width:980px;margin:0 auto;}\t.page{max-width: 980px;margin: 0 auto;position: relative;}\t.cb-col-8 {width:8%;}\t.cb-col-10 {width:10%;}\t.cb-col-14 {width:14%;}\t.cb-col-16 {width:16%;}\t.cb-col-20 {width:20%;}\t.cb-col-25 {width:25%;}\t.cb-col-27 {width:27%;}\t.cb-col-33 {width:33%;}\t.cb-col-40 {width:40%;}\t.cb-col-46 {width:46%;}\t.cb-col-47 {width:47%;}\t.cb-col-50 {width:50%;}\t.cb-col-60 {width:60%;}\t.cb-col-66 {width:66%;}\t.cb-col-67 {width:67%;}\t.cb-col-73 {width:73%;}\t.cb-col-75 {width:75%;}\t.cb-col-84 {width:84%;}\t.cb-col-80 {width:80%;}\t.cb-col-90{width:90%;}\t.cb-col-100 {width:100%;}\t.cb-col {display: inline-block;box-sizing: border-box;float: left; min-height: 1px;}\th1 {font-size: 36px;line-height: 42px; margin:0;}\th2 {font-size: 24px; margin:0; line-height: 30px;}\th3 {font-size: 18px;line-height: 24px; margin:0; }\th4 {font-size: 16px; margin:0; }\th5 {font-size: 14px; margin: 0;}\t.cb-font-18 {font-size:18px;}\timg{border-radius: 4px;}\ta {text-decoration: none; color:#222;}\ta, a:hover, a:active, a:focus {outline: medium none;}\t.text-center {text-align: center;}\t.cb-nws-lft-col{padding:15px 20px;}\t.cb-nws-dtl-lft-col {padding: 10px 30px 0 30px;border-right: 1px solid #ecebeb ;}\t.cb-nws-lst-rt{padding-left: 10px;}\t.cb-srs-lst-itm {padding: 10px 0;}\t.cb-lst-itm-sm{padding:10px 0 5px;}\t.cb-scrd-lft-col{padding:15px 10px;} .cb-col-rt{padding: 10px;}\t.text-white{color: #fff;}\t.cb-scrd-hdr-rw, .cb-nav-pill-1.active {background: #028062 ;color: #fff;}\t.cb-nav{position:relative; height:48px;background: #009270;}\t.cb-hm-mnu-itm{padding: 16px 6px 11px; color:#fff; display:inline-block;}\t.cb-hm-text{padding:10px 18px 10px 20px;}\t.cb-hm-rght{padding: 15px;}\t.cb-subnav .cb-sub-navigation {display: none; position: absolute;}\t.cb-mat-mnu{background:#4a4a4a; width:980px; font-size: 0;}\t.cb-mat-mnu-itm{font-size:12px; color:#fff; padding:10px; cursor: pointer; display:inline-block; max-width: 140px;}\t.cb-mat-mnu-ttl{background: #333; padding: 10px 20px;}\t.cb-mat-mnu-wrp{margin-bottom: 10px;}\t.cb-ovr-flo{overflow: hidden; white-space: nowrap; text-overflow: ellipsis;}\t.cb-mat-mnu-all{text-align: center; float: right; width:60px;}\t.cb-nav-main{border-bottom:1px solid #e3e6e3;padding:0 0 5px 20px;}\t.cb-nav-bar{padding-top:10px;clear:both;}\t.cb-lst-itm, .cb-bg-white{background: #fff;}\t.cb-nav-tab.active, .cb-nav-tab-hm.active{ font-weight: bold; color: #028062;}\t.cb-nav-tab.active {border-bottom: 3px solid #028062; line-height: 24px; }\t.cb-nav-tab-hm.active{ border-bottom:2px solid #028062; line-height: 22px;}\t.cb-nav-tab{margin-right:20px;padding-bottom:6px;}\t.cb-nav-tab-hm{margin-right:15px;padding-bottom:6px;}\t.cb-nav-hdr{padding-top:15px}\t.cb-nav-subhdr{padding:5px 0 10px 0;}\t.cb-lv-scr-mtch-hdr{line-height: 21px;font-size: 16px;}\t.disp-none{display:none;}\t.disp-blck{display:block;}\t.cb-font-24{font-size: 24px;}\t.line-ht30{line-height: 30px;}\t.line-ht24{line-height: 24px;}\t.cb-hm-scg-blk{background: #fff; margin-bottom: 5px; height:90px;}\t.mrgn-btm-5{margin-bottom : 5px;}\t#scagTabContent .show{display: block; visibility: visible;}\t#scagTabContent .hide{display: none; visibility: hidden;}\t[ng\\:cloak], [ng-cloak], [data-ng-cloak], [x-ng-cloak], .ng-cloak, .x-ng-cloak { display: none !important;}\t.cb-hm-lft{margin-bottom:5px;padding:0 15px;}\t.cb-hm-lft-hdr{margin:0; padding:15px 15px 0; color: #009270;} .cb-hm-mid {border-left: 5px solid #e3e6e3 ;border-right: 5px solid #e3e6e3 ;padding: 0 15px;} .cb-mtch-blk {border-right: 1px solid #ecebeb ;line-height: 1.4;margin: 15px 0;padding: 0 20px;}\t.crd-cntxt{font-size: 12px; color:#666; padding-bottom: 10px;}\t.big-crd-main{border-top: 1px solid #ecebeb;padding:15px 0 5px; margin-bottom: 1px;clear: both;} .big-crd-reltd-itm {margin: 0 0 10px; width:100%; display: inline-block;}\t.cb-nws-time{font-size:12px; padding-bottom: 5px;}\t.cb-nws-hdln-ancr{padding-bottom: 5px;}\t.cb-hmscg-bwl-txt, .cb-hmscg-bat-txt{font-weight:bold; padding-bottom:4px; height:18px;}\t.cb-hmscg-bwl-txt{color:#666;}\t.sml-crd-main{padding: 15px 0 5px; width: 100%;}\t.big-crd-hdln{margin: 10px 0;}\t.big-crd-rltd-txt {font-weight: bold; margin:10px 0; color:#1866DB;} .cb-nws-intr {color: #666;padding-bottom: 5px;} .cb-lv-scrs-well {background: #f5f5f5 ;display: inline-block;margin: 10px 0;padding: 10px 5px;}\t.cb-hm-mtch-crd-width{min-width:300px;}\t.cb-mr-30{margin-right: 30px;} .cb-schdl-hdr {margin: 0;padding: 15px 0 10px 10px;} .cb-lst-itm-lg {padding: 20px 0;} .cb-left-pad {padding: 20px 10px 0;}\t.cb-nav-pill-1 {background: #CFE0DB;border-radius: 20px;color: #222;cursor: pointer;margin-right: 15px;padding: 5px 20px;} .cb-mtch-lst {padding: 15px 0;}\t.cb-nws-min-cntr{padding: 10px; background: #f5f5f5; color:#333; margin:10px 0 15px;}\t.sml-crd-subtxt{margin:0 10px 10px;}\t/*-------------------------Live Pages -----------------------*/\t.cb-scrcrd-status{padding:0 0 10px 10px;}\t.cb-scrd-hdr-rw{padding:8px 10px;}\t.cb-bg-gray{background: #ecebeb;}\t.cb-lv-grn-strip{background: #ecebeb;}\t.cb-min-hdr-rw, .cb-scrd-sub-hdr{padding: 4px 10px; font-size: 12px; color: #666;}\t.cb-scrd-itms{padding: 4px 10px; font-size: 13px;}\t.cb-text-link {color: #1866DB;}\t.text-bold{font-weight: bold;}\t.text-normal{font-weight: normal;}\t.cb-mat-fct-itm{padding: 5px 0;}\t.cb-min-bat-rw{padding-bottom: 5px;}\t.cb-nws-sub-txt, .cb-nws-sub-txt, .cb-font-12{font-size:12px;}\t.cb-font-16{font-size:16px;}\t.cb-font-20{font-size:20px;}\t.cb-min-inf{padding-top:10px; margin-left: -10px; display: inline-block;}\t.cb-min-itm-rw{padding:5px 10px 0;}\t.text-right{text-align:right;}\t.cb-key-st-lst{padding: 10px 0 0 5px; }\t.cb-min-prw-time{padding:20px 0 0;}\t.cb-toss-sts{padding: 10px 0 30px;}\t.cb-min-rcnt{padding: 7px 10px; margin: 0 -10px 0;}\t.cb-key-lst-wrp{border: 1px solid #ecebeb; padding-bottom: 15px; margin-right: -10px;}\t.cb-min-tm{font-size: 18px; font-weight: bold;}\t.cb-min-stts{padding: 20px 0;}\t.cb-mom-itm{padding: 0 0 10px;}\t.cb-lv-grn-strip {padding: 10px 10px 5px;}\t.cb-ovr-num{padding-top:2px;}\t.cb-min-pad{padding-left: 5px;}\t/*Upcoming Series*/\t.cb-mnth{margin-top: 10px; padding: 0 10px;}\t.cb-sch-lst-itm {padding:10px 0; margin-left: 20px;border-bottom: 1px solid #ecebeb;}\t/*Matches By Day*/\t.cb-mtchs-dy{padding:20px 20px 20px 10px ;}\t.cb-mtchs-dy-tm,.cb-mtchs-dy-vnu{padding:20px 20px 20px 0px;}\t/*Schedule Teams*/\t.cb-lv-upcom-strip{padding: 5px 10px;background: #ecebeb;}\t/*Archives*/\t.cb-srs-cat{padding:10px; color:#028062; }\t.pad-left{padding-left:30px;}\t.cb-arcv-yr{font-size:20px; padding: 0 0 5px 10px;font-weight: bold}\t.cb-yr-tmline{padding: 2px 15px 15px 0;}\t.cb-sch-tms-widgt{padding: 5px 10px; margin:5px 2px 2px 2px; background: #f5f5f5; border-radius: 0; border:0; display: inline-block;}\t/*Photos*/\t.cb-thmb-dark {background: #333333; box-shadow:none; border-radius:4px; border:none; padding:0;color:#CCC;}\t.cb-pht-main {padding:20px 15px;margin: 0 -10px;}\t.cb-pht-block{padding:9px;float:left;height:280px;box-sizing: border-box;} .cb-gallery-pht-block{padding: 9px 9px 9px 16px;}\t.img-responsive{height:auto; max-width:100%;}\t.center-block{margin-right: auto;margin-left: auto;}\t.cb-schdl{padding:0 10px;line-height: 1.5;}\t.cb-caret-up, .cb-caret-down{display: inline-block; width: 0; height: 0; margin-left: 4px; margin-bottom: 1px; border-right: 4px solid transparent; border-left: 4px solid transparent;}\t.cb-caret-up{border-bottom: 4px solid;}\t.cb-caret-down{border-top: 4px solid;}\t.cb-hm-rt-itm{margin: 0 0 5px; padding: 10px 10px 5px;}\t.cb-hmscg-tm-nm{display:inline-block; width: 60px;}\t.pull-right,.cb-all-mtch-tab{float:right;}\t.cb-skin-ads-close{display: none;}\t.cb-nws-sub-txt{padding-top:10px;}\t.nws-dtl-hdln{margin-top:10px;}\t.cb-min-lv{min-height:270px}\t.cb-min-comp{min-height:150px;}\t.cb-ttl-vts{margin-top:20px;}\t.cb-poll-radio{width: 5%;margin:4px 10px 0 0;}\t.cb-mini-tim{padding-bottom:20px;}\t.cb-com-ln{margin: 0 0 10px; line-height: 24px;}\t.cb-comm-static{min-height:31px; margin: 0 -10px 10px;}\t.cb-com-ovr-sum-ad{min-height: 31px;}\t.cb-comm-static-anchr{margin:5px 10px; display: block;}\t.ad-unit-rendered{margin-bottom: 5px;}\t.cb-mm-wrp { max-height: 0px; -webkit-transition: max-height 0.35s ease; transition: max-height 0.35s ease; overflow: hidden; }\t.cb-mm-wrp.down { max-height: 1000px; transition: max-height 0.75s ease; -webkit-transition: max-height 0.75s ease; overflow: hidden;} .cb-srs-hstry-dtl {padding:10px 15px;margin-top:20px; border-radius: 4px;}\t.cb-qck-lnk{margin-bottom: 5px; padding:10px 15px;}\t.cb-qck-hdr{padding-right: 15px; border-right: 1px solid #ecebeb ;}\t.cb-qck-ancr{margin-left: 15px;}\t.cb-lst-vid-rw{padding-bottom: 0; height: 64px; border: 1px solid #ecebeb; margin-right: -10px;}\t.cb-auth-img{border-radius: 100%;}\t.cb-expt-athr{vertical-align: top; padding: 5px 0 0 0; display: inline-block; font-size: 16px}\t.inline-block{display: inline-block;}\t.cb-exprt-athr-hdr{text-align: right;font-size: 42px;font-family: bodani; color: #fff;padding-right: 15px;line-height:44px;text-transform:uppercase;}\t.cb-exprt-athr-hdr-tag{text-align: right;font-size: 24px;font-family: bodani; color: #fff;padding-right: 15px;font-style:italic;}\t.cb-athr-wgt-wrp{border:1px solid #ecebeb; padding:15px; margin-bottom:20px;background:#f5f5f5;}\t.cb-exprt-athr-hdr-img{background: url(\"/images/harsha-banner.jpg\") no-repeat scroll; height:80px;}\t.cb-overflow-hidden{overflow: hidden;}\t/*Videos*/\t.cb-vid-sm-ply-api {color: #fff;line-height: 34px;font-size: 18px;margin-left: 3px;}\t.cb-vid-sml-card-api {margin-top: 10px;height: auto;padding: 0 12px 0 11px;}\t.cb-cat-head-wrap {padding: 0 12px 0 11px;}\t.cb-cat-head-text {margin-top: 5px;line-height: 20px;}\t.cb-more-btn {padding: 8px 20px;border-radius: 2px;color: #fff;background: #009270;border: 0;cursor: pointer;}\t.cb-cat-head-link {float: right;padding: 5px 25px;margin-top: 10px;border-radius: 4px;}\t.cb-pos-rel{position: relative;}\t.cb-videos-cat {border-bottom: 1px solid #ecebeb;padding: 10px 3px 15px 4px;}\t.cb-cat-head-text-wrap {float: left;}\t.cb-cat-head-count {margin: 0;color: #666;}\th2.cb-cat-head-text{font-size : 18px}\t.cb-vid-sml-card-api-head {font-size: 14px;font-weight: bold;line-height: 18px;max-height: 55px;margin: 2px 0 5px;overflow: hidden;}\t.cb-cen {position: absolute;top: 50%;left: 50%;opacity: .8;transform: translateX(-50%) translateY(-50%);-webkit-transform: translateX(-50%) translateY(-50%);-moz-transform: translateX(-50%) translateY(-50%);-ms-transform: translateX(-50%) translateY(-50%);-o-transform: translateX(-50%) translateY(-50%);background: #222;text-align: center;height: 35px;width: 35px;border-radius: 50px;}\t.cb-cen:hover{opacity: 1;}\t.padding-handling-errors{padding: 20px 0px 10px 15px;border-bottom: 1px solid #ecebeb;}\t.cb-col .cb-align-cen{float: none; text-align: center; padding: 7px 25px; margin-top: 20px;}\t.cb-align-cen{padding-top: 10px;}\t.cb-hot-cat{max-width: 90px; text-align: center; padding-right: 0;}\t.cb-hot-cat-img{width: 72px;}\t.cb-vid-slider-arrs{position: absolute; top: 52px; left: 0; right: 0; z-index: 5;}\t.cb-vid-slider-arr{position: absolute; z-index: 5; height: 43px; width: 43px; border-radius: 50%; cursor: pointer;}\t.cb-vid-slider-arr-prev{display: none; left: 0;}\t.cb-vid-slider-arr-next{right: 0;}\t.videos-list-carousal{overflow: hidden; position: relative; height: 220px;}\t.videos-carousal-wrapper{float: none; list-style: none; padding: 0; margin: 0; transition: all 0.3s ease; display: flex; flex-direction: row; position: absolute; left: 0;}\t.videos-carousal-item{min-width: 25%; justify-content: center; align-items: center;}\t.cb-vid-more{float: right; color: #2C3E9A; font-size: 18px;}\t.cb-vid-more:hover{text-decoration: underline;}\t.cat-vid-carousal{height: 135px !important;}\t.cat-vid-carousal .videos-carousal-item{min-width: auto;}\t.cat-vid-carousal .cb-vid-slider-arrs{top: 24px;}\t.cb-srs-sqd-box{min-height: 700px; background: #fff;}\t.cb-float-none{float: none;}\t.cb-margin-top-10{margin-top: 10px;}\t.cb-schdl-nvtb {margin: 0 0 10px 0;padding: 10px;}\t.cb-carousal-item-small {padding: 0 0 0 16px;}\t.cb-carousal-item-small:first-child {padding-left: 11px;}\t.cb-carousal-item-large {padding: 0 11px;}\t.cb-carousal-item-small .cb-vid-txt-wrp{font-size: 12px;}\t.cb-hot-cat .cb-vid-txt-wrp{display: -webkit-box; -webkit-box-orient: vertical; -webkit-line-clamp: 2; overflow: hidden; max-height: 40px;}\t/*Rankings*/\t.cb-ranking-nav.active{line-height: 21px}\t.cb-rank-plyr{padding-left:15px}\t.text-left{text-align:left;}\t.cb-rank-tabs{padding-left: 10px;}\t.cb-plyr-tbody{padding:5px 0;}\t.cb-padding-left0{padding-left: 0;}\t.cb-rank-hdr{margin-top: 15px; padding: 5px 0;}\t.cb-bg-grey{background: #f5f5f5;}\t/*Players*/\t.cb-player-name-wrap{padding-top: 90px;}\t.cb-plyr-tbl{margin-top: 30px}\t.cb-font-40{font-size:40px;}\t/*Teams*/\t.cb-cursor-pointer{cursor: pointer;}\t.cb-team-stats-btn{margin-top: 21px;}\t.cb-upper-text{text-transform: capitalize;}</style><script>function getCookie(c_name){\tvar i,x,y,ARRcookies=document.cookie.split(\";\");\tfor (i=0;i<ARRcookies.length;i++){\tx=ARRcookies[i].substr(0,ARRcookies[i].indexOf(\"=\"));\ty=ARRcookies[i].substr(ARRcookies[i].indexOf(\"=\")+1);\tx=x.replace(/^\\s+|\\s+$/g,\"\");\tif (x==c_name){\treturn unescape(y);\t}\t}\t}\tvar cbads_value = getCookie(\"cbzads\");\tif(cbads_value != null && cbads_value.indexOf('IN|AS') >= 0){\tdocument.write(\"<style>.cb-geo-in-50{height:50px}</style>\")\t}\t/*polifill for remove function*/\tif (!('remove' in Element.prototype)) {\tElement.prototype['remove'] = function () {\tif (this.parentNode) {\tthis.parentNode.removeChild(this);\t}\t};\t}</script><meta content=\"IE=edge\" http-equiv=\"X-UA-Compatible\"><meta content=\"\" name=\"author\"/><link href=\"/images/cric_ball.ico\" rel=\"shortcut icon\" type=\"image/x-icon\"/><meta content=\"125255339112-d594jen12o0j854sufu8jfn2gbbnaskj.apps.googleusercontent.com\" name=\"google-signin-client_id\"/><link href=\"/images/apple-touch-icon.png\" rel=\"apple-touch-icon\"/> <title itemprop=\"name\">World Cup 2019, Cricket Score, Schedule, Latest News, Stats &amp; Videos | Cricbuzz.com</title><meta content=\"Get Live Cricket Score, Scorecard, Schedules of International, Domestic and World Cup matches along with Latest News, Videos and ICC Cricket Rankings of Players on Cricbuzz.\" itemprop=\"description\" name=\"description\"/><link href=\"android-app://com.cricbuzz.android/http/www.cricbuzz.com/\" rel=\"alternate\"/><link href=\"//m.cricbuzz.com/\" media=\"only screen and (max-width: 640px)\" rel=\"alternate\"/><meta content=\"index, follow\" name=\"robots\"/><meta content=\"index, follow\" name=\"googlebot\"/><meta content=\"google89fd37b1258ef4b9.html\" name=\"google-site-verification\"/><meta content=\"fd560568b43f31382de30f628c8430bd\" name=\"p:domain_verify\"/><meta content=\"A509FA8BAE50018F9DF2553AEDEDF77B\" name=\"msvalidate.01\"/> <meta content=\"World Cup 2019, Cricket Score, Schedule, Latest News, Stats &amp; Videos\" property=\"og:title\"/><meta content=\"Get Live Cricket Score, Scorecard, Schedules of International, Domestic and World Cup matches along with Latest News, Videos and ICC Cricket Rankings of Players on Cricbuzz.\" property=\"og:description\"/><meta content=\"http://www.cricbuzz.com\" property=\"og:image\"/><meta content=\"https://www.cricbuzz.com\" property=\"og:image:secure_url\"/><meta content=\"30119633160\" property=\"fb:app_id\"/><meta content=\"Cricbuzz\" property=\"og:site_name\"/> <meta content=\"World Cup 2019, Cricket Score, Schedule, Latest News, Stats &amp; Videos\" property=\"twitter:title\"/><meta content=\"Get Live Cricket Score, Scorecard, Schedules of International, Domestic and World Cup matches along with Latest News, Videos and ICC Cricket Rankings of Players on Cricbuzz.\" property=\"twitter:description\"/><meta content=\"https://www.cricbuzz.com\" property=\"twitter:image\"/><meta content=\"@cricbuzz\" name=\"twitter:site\"/><meta content=\"cricbuzz.com\" name=\"twitter:domain\"/><meta content=\"Cricbuzz\" name=\"twitter:app:name:iphone\"/><meta content=\"360466413\" name=\"twitter:app:id:iphone\"/><meta content=\"Cricbuzz\" name=\"twitter:app:name:googleplay\"/><meta content=\"com.cricbuzz.android\" name=\"twitter:app:id:googleplay\"/><meta content=\"on\" name=\"twitter:widgets:csp\"/><meta content=\"178697151159\" property=\"fb:pages\"><meta content=\"\" name=\"keywords\"/><meta content=\"\" name=\"news_keywords\"/><link href=\"https://www.cricbuzz.com\" rel=\"canonical\"/><meta content=\"none\" name=\"msapplication-config\"><script>var PAGE_NAME = \"cb-homepage\";\tvar PAGE_TARGETS = {};\tvar CBQueue = CBQueue || [];\tvar CBQueueOnLoad = CBQueueOnLoad || [];\t/*CBQueue.push(function(){roadblock(2,{country:[\"US\",\"CA\", \"ZA\", \"AU\"], continent:[\"EU\"]});});*/\tCBQueue.push(function(){roadblock(2,{country:[\"US\"]});});\t_udn = \"cricbuzz.com\";</script><script>(function(w){\t\"use strict\";\tvar loadCSS = function( href, before, media ){\tvar doc = w.document;\tvar ss = doc.createElement( \"link\" );\tvar ref;\tif( before ){\tref = before;\t}\telse {\tvar refs = ( doc.body || doc.getElementsByTagName( \"head\" )[ 0 ] ).childNodes;\tref = refs[ refs.length - 1];\t}\tvar sheets = doc.styleSheets;\tss.rel = \"stylesheet\";\tss.href = href;\tss.media = \"only x\";\tref.parentNode.insertBefore( ss, ( before ? ref : ref.nextSibling ) );\tvar onloadcssdefined = function( cb ){\tvar resolvedHref = ss.href;\tvar i = sheets.length;\twhile( i-- ){\tif( sheets[ i ].href === resolvedHref ){\treturn cb();\t}\t}\tsetTimeout(function() {\tonloadcssdefined( cb );\t});\t};\tss.onloadcssdefined = onloadcssdefined;\tonloadcssdefined(function() {\tss.media = media || \"all\";\t});\treturn ss;\t};\tif( typeof module !== \"undefined\" ){\tmodule.exports = loadCSS;\t}\telse {\tw.loadCSS = loadCSS;\t}\t}( typeof global !== \"undefined\" ? global : this ));\tloadCSS( \"/dist/css/cricbuzz.min.6501.css\" );</script><noscript><link href=\"/dist/css/cricbuzz.min.6501.css\" rel=\"stylesheet\" type=\"text/css\"/></noscript></meta></meta></meta></head><body><a href=\"https://plus.google.com/104502282508811467249\" rel=\"publisher\"></a><a class=\"cb-skin-ads-link cb-skin-ads-link-fixed ad-skin\" href=\"Javascript:void(0)\" id=\"ad-skin\" target=\"_blank\"></a><a class=\"cb-skin-ads-close cb-font-18 ad-skin-close\" href=\"Javascript:void(0)\" style=\"position:fixed; z-index:1001; color:#FFF; background:#000; padding:2px 5px; right:2px;\">✖</a><header id=\"top\" itemscope=\"\" itemtype=\"http://schema.org/WPHeader\" style=\"z-index: 1000;position: relative;padding-top:10px;width:980px;margin:0 auto;\"><div class=\"container\"><div class=\"ad-unit text-center center-block\" id=\"leaderboard\" style=\"min-height:90px;margin-bottom:10px;\"></div><div class=\"ad-unit\" id=\"countdown\" style=\"margin:-10px 15px 0px;float:right;position:absolute;\"></div><div class=\"toi-branding toi-referral\"></div><nav class=\"cb-nav cb-col cb-col-100\" id=\"cb-main-menu\"><a class=\"cb-hm-text\" href=\"/\" target=\"_self\"><img alt=\"Cricbuzz Logo\" height=\"30\" itemprop=\"image\" src=\"/images/cbz-logo.png\" style=\"bottom: -4px; position: relative;\" title=\"Cricbuzz Logo\" width=\"101\"/></a><a class=\"cb-hm-mnu-itm\" href=\"/cricket-match/live-scores\" target=\"_self\" title=\"Live Cricket Score\">Live Scores</a><a class=\"cb-hm-mnu-itm\" href=\"/cricket-schedule/upcoming-series/international\" target=\"_self\" title=\"Cricket Schedule\">Schedule</a><a class=\"cb-hm-mnu-itm\" href=\"/cricket-scorecard-archives\" target=\"_self\" title=\"Cricket Scorecard Archives\">Archives</a><div class=\"cb-subnav cb-hm-mnu-itm feature-button cursor-pointer\" id=\"newsDropDown\"><a class=\"text-white\" href=\"/cricket-news\" target=\"_self\">News</a><span class=\"cb-caret-down\"></span><nav class=\"cb-sub-navigation\"><a class=\"cb-subnav-item\" href=\"/cricket-news\" target=\"_self\" title=\"Latest Cricket News\">All Stories</a><a class=\"cb-subnav-item\" href=\"/cricket-news/latest-news\" target=\"_self\" title=\"Latest Cricket News\">Latest News</a><a class=\"cb-subnav-item\" href=\"/cricket-news/info/\" target=\"_self\" title=\"Latest Cricket Topics\">Topics</a><a class=\"cb-subnav-item\" href=\"/cricket-news/editorial/spotlight\" target=\"_self\" title=\"Cricket Editorials and Specials\">Spotlight</a><a class=\"cb-subnav-item\" href=\"/cricket-news/editorial/editorial-list\" target=\"_self\" title=\"Latest Cricket Opinions &amp; Editorials\">Opinions</a><a class=\"cb-subnav-item\" href=\"/cricket-news/editorial/specials\" target=\"_self\" title=\"Latest Cricket Specials\">Specials</a><a class=\"cb-subnav-item\" href=\"/cricket-news/editorial/stats-analysis\" target=\"_self\" title=\"Latest Cricket Stats &amp; Analysis\">Stats &amp; Analysis</a><a class=\"cb-subnav-item\" href=\"/cricket-news/editorial/interviews\" target=\"_self\" title=\"Latest Cricket Player Interviews\">Interviews</a><a class=\"cb-subnav-item\" href=\"/cricket-news/editorial/live-blogs\" target=\"_self\" title=\"Latest Cricket Match live blogs\">Live Blogs</a><a class=\"cb-subnav-item\" href=\"/cricket-news/experts/harsha-bhogle/170\" target=\"_self\" title=\"Articles and Videos by Harsha Bhogle\">Harsha Bhogle</a></nav></div><div class=\"cb-subnav cb-hm-mnu-itm feature-button cursor-pointer\" id=\"seriesDropDown\"><a class=\"text-white\" href=\"/cricket-schedule/series\" target=\"_self\">Series</a><span class=\"cb-caret-down\"></span><nav class=\"cb-sub-navigation\"><a class=\"cb-subnav-item\" href=\"/cricket-series/2697/icc-cricket-world-cup-2019\" target=\"_self\" title=\"ICC Cricket World Cup 2019\">ICC Cricket World Cup 2019</a><a class=\"cb-subnav-item\" href=\"/cricket-series/2818/zimbabwe-tour-of-netherlands-2019\" target=\"_self\" title=\"Zimbabwe tour of Netherlands, 2019\">Zimbabwe tour of Netherlands, 2019</a><a class=\"cb-subnav-item\" href=\"/cricket-series/2844/malaysia-tri-series-2019\" target=\"_self\" title=\"Malaysia Tri-Series 2019\">Malaysia Tri-Series 2019</a><a class=\"cb-subnav-item\" href=\"/cricket-series/2793/zimbabwe-tour-of-ireland-2019\" target=\"_self\" title=\"Zimbabwe tour of Ireland, 2019\">Zimbabwe tour of Ireland, 2019</a><a class=\"cb-subnav-item\" href=\"/cricket-series/2777/west-indies-women-tour-of-england-2019\" target=\"_self\" title=\"West Indies Women tour of England, 2019\">West Indies Women tour of England, 2019</a><a class=\"cb-subnav-item\" href=\"/cricket-series/2780/county-championship-division-one-2019\" target=\"_self\" title=\"County Championship Division One 2019\">County Championship Division One 2019</a></nav></div><div class=\"cb-subnav cb-hm-mnu-itm feature-button cursor-pointer\" id=\"teamDropDown\"><a class=\"text-white\" href=\"/cricket-team\" target=\"_self\">Teams</a><span class=\"cb-caret-down\"></span><nav class=\"cb-sub-navigation cb-sub-lg\"> <div class=\"cb-sub-lg-outer\"> <div class=\"cb-sub-lg-sec\"> <h4 class=\"cb-sub-lg-sec-head\">Test Teams</h4> <a class=\"cb-subnav-item cb-sub-lg-sec-item\" href=\"/cricket-team/india/2\" target=\"_self\" title=\"India Cricket Team\">India</a> <a class=\"cb-subnav-item cb-sub-lg-sec-item\" href=\"/cricket-team/pakistan/3\" target=\"_self\" title=\"Pakistan Cricket Team\">Pakistan</a> <a class=\"cb-subnav-item cb-sub-lg-sec-item\" href=\"/cricket-team/australia/4\" target=\"_self\" title=\"Australia Cricket Team\">Australia</a> <a class=\"cb-subnav-item cb-sub-lg-sec-item\" href=\"/cricket-team/sri-lanka/5\" target=\"_self\" title=\"Sri Lanka Cricket Team\">Sri Lanka</a> <a class=\"cb-subnav-item cb-sub-lg-sec-item\" href=\"/cricket-team/bangladesh/6\" target=\"_self\" title=\"Bangladesh Cricket Team\">Bangladesh</a> <a class=\"cb-subnav-item cb-sub-lg-sec-item\" href=\"/cricket-team/england/9\" target=\"_self\" title=\"England Cricket Team\">England</a> <a class=\"cb-subnav-item cb-sub-lg-sec-item\" href=\"/cricket-team/west-indies/10\" target=\"_self\" title=\"West Indies Cricket Team\">West Indies</a> <a class=\"cb-subnav-item cb-sub-lg-sec-item\" href=\"/cricket-team/south-africa/11\" target=\"_self\" title=\"South Africa Cricket Team\">South Africa</a> <a class=\"cb-subnav-item cb-sub-lg-sec-item\" href=\"/cricket-team/zimbabwe/12\" target=\"_self\" title=\"Zimbabwe Cricket Team\">Zimbabwe</a> <a class=\"cb-subnav-item cb-sub-lg-sec-item\" href=\"/cricket-team/new-zealand/13\" target=\"_self\" title=\"New Zealand Cricket Team\">New Zealand</a> <a class=\"cb-subnav-item cb-sub-lg-sec-item\" href=\"/cricket-team/ireland/27\" target=\"_self\" title=\"Ireland Cricket Team\">Ireland</a> <a class=\"cb-subnav-item cb-sub-lg-sec-item\" href=\"/cricket-team/afghanistan/96\" target=\"_self\" title=\"Afghanistan Cricket Team\">Afghanistan</a> </div> <div class=\"cb-sub-lg-sec\"> <h4 class=\"cb-sub-lg-sec-head\">Associate</h4> <a class=\"cb-subnav-item cb-sub-lg-sec-item\" href=\"/cricket-team/united-arab-emirates/7\" target=\"_self\" title=\"United Arab Emirates Cricket Team\">United Arab Emirates</a> <a class=\"cb-subnav-item cb-sub-lg-sec-item\" href=\"/cricket-team/hong-kong/8\" target=\"_self\" title=\"Hong Kong Cricket Team\">Hong Kong</a> <a class=\"cb-subnav-item cb-sub-lg-sec-item\" href=\"/cricket-team/kenya/14\" target=\"_self\" title=\"Kenya Cricket Team\">Kenya</a> <a class=\"cb-subnav-item cb-sub-lg-sec-item\" href=\"/cricket-team/united-states/15\" target=\"_self\" title=\"United States Cricket Team\">United States</a> <a class=\"cb-subnav-item cb-sub-lg-sec-item\" href=\"/cricket-team/scotland/23\" target=\"_self\" title=\"Scotland Cricket Team\">Scotland</a> <a class=\"cb-subnav-item cb-sub-lg-sec-item\" href=\"/cricket-team/netherlands/24\" target=\"_self\" title=\"Netherlands Cricket Team\">Netherlands</a> <a class=\"cb-subnav-item cb-sub-lg-sec-item\" href=\"/cricket-team/bermuda/25\" target=\"_self\" title=\"Bermuda Cricket Team\">Bermuda</a> <a class=\"cb-subnav-item cb-sub-lg-sec-item\" href=\"/cricket-team/canada/26\" target=\"_self\" title=\"Canada Cricket Team\">Canada</a> <a class=\"cb-subnav-item cb-sub-lg-sec-item\" href=\"/cricket-team/uganda/44\" target=\"_self\" title=\"Uganda Cricket Team\">Uganda</a> <a class=\"cb-subnav-item cb-sub-lg-sec-item\" href=\"/cricket-team/malaysia/71\" target=\"_self\" title=\"Malaysia Cricket Team\">Malaysia</a> <a class=\"cb-subnav-item cb-sub-lg-sec-item\" href=\"/cricket-team/nepal/72\" target=\"_self\" title=\"Nepal Cricket Team\">Nepal</a> <a class=\"cb-subnav-item cb-sub-lg-sec-item\" href=\"/cricket-team/germany/77\" target=\"_self\" title=\"Germany Cricket Team\">Germany</a> </div> </div> <a class=\"cb-sub-lg-more\" href=\"/cricket-team\" target=\"_self\">More...</a></nav></div> <div class=\"cb-subnav cb-hm-mnu-itm feature-button cursor-pointer\" id=\"videosDropDown\"><a class=\"text-white\" href=\"/cricket-videos\" target=\"_self\">Videos</a><span class=\"cb-caret-down\"></span> <nav class=\"cb-sub-navigation\"> <a class=\"cb-subnav-item\" href=\"/cricket-videos\" target=\"_self\" title=\"All Cricket Videos\">All Videos</a> <a class=\"cb-subnav-item\" href=\"/cricket-videos/categories\" target=\"_self\" title=\"Cricket Videos Categories\">Categories</a> <a class=\"cb-subnav-item\" href=\"/cricket-videos/playlists\" target=\"_self\" title=\"Cricket Videos Playlists\">Playlists</a> </nav> </div> <div class=\"cb-subnav cb-hm-mnu-itm feature-button cursor-pointer\" id=\"rankingDropDown\"><a class=\"text-white\" href=\"/cricket-stats/icc-rankings/men/batting\">Rankings</a><span class=\"cb-caret-down\"></span><nav class=\"cb-sub-navigation\"><a class=\"cb-subnav-item\" href=\"/cricket-stats/icc-rankings/men/batting\" target=\"_self\" title=\"ICC Rankings Men\">ICC Rankings - Men</a><a class=\"cb-subnav-item\" href=\"/cricket-stats/icc-rankings/women/batting\" target=\"_self\" title=\"ICC Rankings Women\">ICC Rankings - Women</a></nav></div> <div class=\"cb-subnav cb-hm-mnu-itm feature-button cursor-pointer\">More<span class=\"cb-caret-down\"></span><nav class=\"cb-sub-navigation\" style=\"right:0px;\"> <a class=\"cb-subnav-item\" href=\"/cricket-photo-gallery\" target=\"_self\" title=\"Photo Gallery\">Photos</a> <a class=\"cb-subnav-item\" href=\"/mobileapps\" target=\"_self\" title=\"Mobile Apps\">Mobile Apps</a><a class=\"cb-subnav-item\" href=\"/careers\" target=\"_self\" title=\"Careers\">Careers</a><a class=\"cb-subnav-item\" href=\"/info/contact\" target=\"_self\" title=\"Contact Us\">Contact Us</a></nav></div> <div ng-controller=\"SearchCtrl\" ng-init=\" init(-1, 61, 76, 350, '', 'nav')\"> <div class=\"cb-nav-search-wrap\" ng-style=\"{width: inputFocus?'830px':'170px'}\"> <div class=\"cb-col-100 cb-col cb-srch-bar cb-srch-bar-nav\"> <form class=\"cb-search-form\" name=\"form\" ng-cloak=\"\" ng-submit=\"search_results(false, false)\"> <div class=\"cb-search-input-nav\"> <div class=\"cb-search-outer\"> <div class=\"cb-search-input-wrap\"> <input autocomplete=\"off\" class=\"js-cb-search-input cb-search-input-elem cb-search-input-elem-nav form-control cb-car-inp cb-srch-bg\" id=\"search_bar\" maxlength=\"500\" name=\"search\" ng-blur=\"loseInputFocus()\" ng-change=\"suggest_search()\" ng-class=\"{'cb-search-input-elem-error-nav':errorText, 'cb-srch-high-zIndex':dropdownVisible, 'cb-srch-input-focus':inputFocus}\" ng-focus=\"onInputFocus()\" ng-keydown=\"onKeyPress($event)\" ng-model=\"searchText\" ng-model-options=\"{ debounce: 400 }\" placeholder=\"{{errorText?errorText:(source == 'nav' &amp;&amp; inputFocus) || source == 'search-page'?'Search for Player, Series, Team, News or Video. eg: Windies tour of India': 'Search'}}\" type=\"text\" value=\"suggest.title\"/> <span class=\"cb-ico cb-search-input-icon cb-search-input-icon-nav\"></span> <span class=\"cb-srch-cross-new cb-srch-cross-new-nav cb-font-14\" ng-class=\"{'cb-srch-cross-focus': inputFocus, 'cb-srch-high-zIndex':dropdownVisible}\" ng-click=\"reset_form('view');\" ng-show=\"searchText.length &gt; 0\">â</span> </div> <div class=\"cb-srch-backdrop\" ng-click=\"hideDropdown()\" ng-show=\"dropdownVisible\"></div> <div class=\"cb-main-srch-box-wrap\" ng-show=\"dropdownVisible &amp;&amp; searchText.length &gt;= 2 &amp;&amp; search_ftr_suggst.length &gt; 0\"> <ul class=\"cb-main-srch-box\" id=\"searchBox_nav\"> <li class=\"cb-main-srch-box-item {{selected_suggestions == $index?'highlight':''}}\" id=\"search_item_{{$index}}\" ng-class=\"{'cb-main-srch-box-item-border':suggest.hasBorder, 'cb-big': suggest.isSearchItem}\" ng-click=\"search_results()\" ng-mouseover=\"highlight_item_mouse_hover($index)\" ng-repeat=\"suggest in search_ftr_suggst track by $index\" ng-show=\"suggestions &amp;&amp; searchText.length &gt; 0 &amp;&amp; inputFocus\"> <a class=\"text-black cb-srch-suggest-link\" ng-if=\"!suggest.isSearchItem\"> <div class=\"cb-srch-suggest-img\" ng-class=\"{'cb-srch-suggest-img-teams': suggest.type == 'Teams'}\"> <div class=\"\" ng-if=\"suggest.imgUrl\"> <img class=\"cb-srch-suggest-icon-img\" ng-src=\"{{suggest.imgUrl}}\"> </img></div> <div class=\"cb-srch-sugggest-icon {{suggest.iconClass}} cb-ico\" ng-if=\"!suggest.imgUrl\"> </div> </div> <div class=\"cb-srch-suggest-content\"> <p class=\"cb-srch-suggest-content-title\" ng-bind-html=\"suggest | searchfilter:oldText\"></p> <p class=\"cb-srch-suggest-content-subtitle cb-font-12 cb-text-gray\">{{suggest.tag}}</p> </div> </a> <a class=\"text-black cb-srch-suggest-link\" href=\"javascript:void(0)\" ng-if=\"suggest.isSearchItem\"> <div class=\"cb-srch-suggest-img\"> <div class=\"cb-srch-sugggest-icon cb-srch-sugggest-icon-search cb-ico\"> </div> </div> <div class=\"cb-srch-suggest-content cb-center-text\"> <p class=\"cb-srch-suggest-content-title\">Search for “<span ng-bind=\"searchText\"></span>”</p> </div> </a> </li> </ul> </div> </div> </div> <div class=\"cb-search-submit-nav\" ng-class=\"{'cb-search-submit-input-focus': inputFocus, 'cb-search-submit-error': errorText}\"> <a class=\"text-white cb-srch-bttn\" ng-class=\"{'cb-srch-high-zIndex':dropdownVisible}\" ng-click=\"search_results(false, true)\">SEARCH</a> </div> </form></div><style>.cb-srch-ico{margin: 0}</style> </div> </div> </nav></div></header><div class=\"page\"><div id=\"fb-root\"></div><div class=\"container\" id=\"page-wrapper\" style=\"display:inline-block;\"><div class=\"ad-unit shosh-embed\" id=\"shosh\" style=\"height:0; width:980px; text-align:center;\"></div><span class=\"ad-unit\" id=\"skin_left\" style=\"overflow:hidden; position:fixed;top:0;left:calc(50% - 635px);margin-right:3px;z-index:-99;\"></span> <div class=\"cb-col cb-col-100\"><div class=\"cb-col cb-col-100 html-refresh\" id=\"match_menu_container\" timeout=\"45000\" url=\"/api/html/homepage-scag\"><div class=\"cb-nav-main cb-bg-white\" ng-init=\"run_active = 'Featured'\"><nav class=\"cb-nav-bar\" id=\"scagTab\"><a class=\"cb-nav-tab-hm active\" href=\"javascript:void(0)\" id=\"featured-mtchs-tab\" ng-class=\"{true:'active',false:''}[run_active == 'Featured']\" ng-click=\"run_active = 'Featured'\">Featured</a><a class=\"cb-nav-tab-hm\" href=\"javascript:void(0)\" id=\"international-mtchs-tab\" ng-class=\"{true:'active',false:''}[run_active == 'International']\" ng-click=\"run_active = 'International'\">International</a><a class=\"cb-nav-tab-hm\" href=\"javascript:void(0)\" id=\"icc-cricket-wc-2019-mtchs-tab\" ng-class=\"{true:'active',false:''}[run_active == 'ICC Cricket WC 2019']\" ng-click=\"run_active = 'ICC Cricket WC 2019'\">ICC Cricket WC 2019</a><a class=\"cb-nav-tab-hm\" href=\"javascript:void(0)\" id=\"pak-u19-tour-of-sa-mtchs-tab\" ng-class=\"{true:'active',false:''}[run_active == 'PAK U19 tour of SA']\" ng-click=\"run_active = 'PAK U19 tour of SA'\">PAK U19 tour of SA</a><a class=\"cb-nav-tab-hm cb-text-link cb-all-mtch-tab\" href=\"/cricket-match/live-scores\" id=\"AllMatches\" title=\"Live Scores of Cricket Matches\">All Matches</a></nav></div><div class=\"cb-bg-white\" id=\"hm-scag-mtch-blk\" style=\"min-height:90px;\"><div ng-if=\"run_active == 'Featured'\"><div class=\"cb-col-100 cb-col cb-hm-scg-blk\"><div class=\"cb-col cb-col-25 cb-mtch-blk\"><a class=\"cb-font-12\" href=\"/live-cricket-scores/20272/pak-vs-afg-match-36-icc-cricket-world-cup-2019\" target=\"_self\" title=\"Pakistan v Afghanistan - Match 36\"><div class=\"cb-hmscg-bat-txt cb-ovr-flo\"><div class=\"cb-ovr-flo cb-hmscg-tm-nm\">AFG</div><div class=\"cb-ovr-flo\" style=\"display:inline-block; width:140px\">32/2 (6.2 Ovs)</div></div><div class=\"cb-hmscg-bwl-txt\"><div class=\"cb-ovr-flo cb-hmscg-tm-nm\">PAK</div><div class=\"cb-ovr-flo\" style=\"display:inline-block; width:140px\"></div></div><div class=\"cb-ovr-flo cb-text-live\">Afghanistan opt to bat</div></a></div><div class=\"cb-col cb-col-25 cb-mtch-blk\"><a class=\"cb-font-12\" href=\"/live-cricket-scores/20274/eng-vs-ind-match-38-icc-cricket-world-cup-2019\" target=\"_self\" title=\"England v India - Match 38\"><div class=\"cb-hmscg-bat-txt cb-ovr-flo\">England</div> <div class=\"cb-hmscg-bat-txt cb-ovr-flo\">India</div><div class=\"cb-ovr-flo cb-text-preview\" ng-bind=\"1561887000000 |date: 'EEEE, d MMM, hh:mm a'\"></div></a></div><div class=\"cb-col cb-col-25 cb-mtch-blk\"><a class=\"cb-font-12\" href=\"/live-cricket-scores/20273/nz-vs-aus-match-37-icc-cricket-world-cup-2019\" target=\"_self\" title=\"New Zealand v Australia - Match 37\"><div class=\"cb-hmscg-bat-txt cb-ovr-flo\">New Zealand</div> <div class=\"cb-hmscg-bat-txt cb-ovr-flo\">Australia</div><div class=\"cb-ovr-flo cb-text-preview\" ng-bind=\"1561811400000 |date: 'EEEE, d MMM, hh:mm a'\"></div></a></div><div class=\"cb-col cb-col-25 cb-mtch-blk\"><a class=\"cb-font-12\" href=\"/live-cricket-scores/20271/sl-vs-rsa-match-35-icc-cricket-world-cup-2019\" target=\"_self\" title=\"Sri Lanka v South Africa - Match 35\"><div class=\"cb-hmscg-bat-txt cb-ovr-flo\"><div class=\"cb-ovr-flo cb-hmscg-tm-nm\">RSA</div><div class=\"cb-ovr-flo\" style=\"display:inline-block; width:140px\">206/1 (37.2 Ovs)</div></div><div class=\"cb-hmscg-bwl-txt\"><div class=\"cb-ovr-flo cb-hmscg-tm-nm\">SL</div><div class=\"cb-ovr-flo\" style=\"display:inline-block; width:140px\">203 (49.3 Ovs)</div></div><div class=\"cb-ovr-flo cb-text-complete\">South Africa won by 9 wkts</div></a></div></div></div><div ng-if=\"run_active == 'International'\"><div class=\"cb-col-100 cb-col cb-hm-scg-blk ng-cloak\"><div class=\"cb-col cb-col-25 cb-mtch-blk\"><a class=\"cb-font-12\" href=\"/live-cricket-scores/20272/pak-vs-afg-match-36-icc-cricket-world-cup-2019\" target=\"_self\" title=\"Pakistan v Afghanistan - Match 36\"><div class=\"cb-hmscg-bat-txt cb-ovr-flo\"><div class=\"cb-ovr-flo cb-hmscg-tm-nm\">AFG</div><div class=\"cb-ovr-flo\" style=\"display:inline-block; width:140px\">32/2 (6.2 Ovs)</div></div><div class=\"cb-hmscg-bwl-txt\"><div class=\"cb-ovr-flo cb-hmscg-tm-nm\">PAK</div><div class=\"cb-ovr-flo\" style=\"display:inline-block; width:140px\"></div></div><div class=\"cb-ovr-flo cb-text-live\">Afghanistan opt to bat</div></a></div><div class=\"cb-col cb-col-25 cb-mtch-blk\"><a class=\"cb-font-12\" href=\"/live-cricket-scores/20274/eng-vs-ind-match-38-icc-cricket-world-cup-2019\" target=\"_self\" title=\"England v India - Match 38\"><div class=\"cb-hmscg-bat-txt cb-ovr-flo\">England</div> <div class=\"cb-hmscg-bat-txt cb-ovr-flo\">India</div><div class=\"cb-ovr-flo cb-text-preview\" ng-bind=\"1561887000000 |date: 'EEEE, d MMM, hh:mm a'\"></div></a></div><div class=\"cb-col cb-col-25 cb-mtch-blk\"><a class=\"cb-font-12\" href=\"/live-cricket-scores/20273/nz-vs-aus-match-37-icc-cricket-world-cup-2019\" target=\"_self\" title=\"New Zealand v Australia - Match 37\"><div class=\"cb-hmscg-bat-txt cb-ovr-flo\">New Zealand</div> <div class=\"cb-hmscg-bat-txt cb-ovr-flo\">Australia</div><div class=\"cb-ovr-flo cb-text-preview\" ng-bind=\"1561811400000 |date: 'EEEE, d MMM, hh:mm a'\"></div></a></div><div class=\"cb-col cb-col-25 cb-mtch-blk\"><a class=\"cb-font-12\" href=\"/live-cricket-scores/20271/sl-vs-rsa-match-35-icc-cricket-world-cup-2019\" target=\"_self\" title=\"Sri Lanka v South Africa - Match 35\"><div class=\"cb-hmscg-bat-txt cb-ovr-flo\"><div class=\"cb-ovr-flo cb-hmscg-tm-nm\">RSA</div><div class=\"cb-ovr-flo\" style=\"display:inline-block; width:140px\">206/1 (37.2 Ovs)</div></div><div class=\"cb-hmscg-bwl-txt\"><div class=\"cb-ovr-flo cb-hmscg-tm-nm\">SL</div><div class=\"cb-ovr-flo\" style=\"display:inline-block; width:140px\">203 (49.3 Ovs)</div></div><div class=\"cb-ovr-flo cb-text-complete\">South Africa won by 9 wkts</div></a></div></div></div><div ng-if=\"run_active == 'ICC Cricket WC 2019'\"><div class=\"cb-col-100 cb-col cb-hm-scg-blk ng-cloak\"><div class=\"cb-col cb-col-25 cb-mtch-blk\"><a class=\"cb-font-12\" href=\"/live-cricket-scores/20272/pak-vs-afg-match-36-icc-cricket-world-cup-2019\" target=\"_self\" title=\"Pakistan v Afghanistan - Match 36\"><div class=\"cb-hmscg-bat-txt cb-ovr-flo\"><div class=\"cb-ovr-flo cb-hmscg-tm-nm\">AFG</div><div class=\"cb-ovr-flo\" style=\"display:inline-block; width:140px\">32/2 (6.2 Ovs)</div></div><div class=\"cb-hmscg-bwl-txt\"><div class=\"cb-ovr-flo cb-hmscg-tm-nm\">PAK</div><div class=\"cb-ovr-flo\" style=\"display:inline-block; width:140px\"></div></div><div class=\"cb-ovr-flo cb-text-live\">Afghanistan opt to bat</div></a></div><div class=\"cb-col cb-col-25 cb-mtch-blk\"><a class=\"cb-font-12\" href=\"/live-cricket-scores/20274/eng-vs-ind-match-38-icc-cricket-world-cup-2019\" target=\"_self\" title=\"England v India - Match 38\"><div class=\"cb-hmscg-bat-txt cb-ovr-flo\">England</div> <div class=\"cb-hmscg-bat-txt cb-ovr-flo\">India</div><div class=\"cb-ovr-flo cb-text-preview\" ng-bind=\"1561887000000 |date: 'EEEE, d MMM, hh:mm a'\"></div></a></div><div class=\"cb-col cb-col-25 cb-mtch-blk\"><a class=\"cb-font-12\" href=\"/live-cricket-scores/20273/nz-vs-aus-match-37-icc-cricket-world-cup-2019\" target=\"_self\" title=\"New Zealand v Australia - Match 37\"><div class=\"cb-hmscg-bat-txt cb-ovr-flo\">New Zealand</div> <div class=\"cb-hmscg-bat-txt cb-ovr-flo\">Australia</div><div class=\"cb-ovr-flo cb-text-preview\" ng-bind=\"1561811400000 |date: 'EEEE, d MMM, hh:mm a'\"></div></a></div><div class=\"cb-col cb-col-25 cb-mtch-blk\"><a class=\"cb-font-12\" href=\"/live-cricket-scores/20271/sl-vs-rsa-match-35-icc-cricket-world-cup-2019\" target=\"_self\" title=\"Sri Lanka v South Africa - Match 35\"><div class=\"cb-hmscg-bat-txt cb-ovr-flo\"><div class=\"cb-ovr-flo cb-hmscg-tm-nm\">RSA</div><div class=\"cb-ovr-flo\" style=\"display:inline-block; width:140px\">206/1 (37.2 Ovs)</div></div><div class=\"cb-hmscg-bwl-txt\"><div class=\"cb-ovr-flo cb-hmscg-tm-nm\">SL</div><div class=\"cb-ovr-flo\" style=\"display:inline-block; width:140px\">203 (49.3 Ovs)</div></div><div class=\"cb-ovr-flo cb-text-complete\">South Africa won by 9 wkts</div></a></div></div></div><div ng-if=\"run_active == 'PAK U19 tour of SA'\"><div class=\"cb-col-100 cb-col cb-hm-scg-blk ng-cloak\"><div class=\"cb-col cb-col-25 cb-mtch-blk\"><a class=\"cb-font-12\" href=\"/live-cricket-scores/22864/rsau19-vs-paku19-4th-youth-odi-pakistan-under-19-tour-of-south-africa-2019\" target=\"_self\" title=\"South Africa U19 v Pakistan U19 - 4th Youth ODI\"><div class=\"cb-hmscg-bat-txt cb-ovr-flo\">South Africa U19</div> <div class=\"cb-hmscg-bat-txt cb-ovr-flo\">Pakistan U19</div><div class=\"cb-ovr-flo cb-text-preview\" ng-bind=\"1561878000000 |date: 'EEEE, d MMM, hh:mm a'\"></div></a></div></div></div></div></div><div class=\"ad-unit\" id=\"menu_branding\" style=\"float:right;\"></div></div><nav class=\"cb-col cb-col-100 cb-bg-white cb-qck-lnk\" id=\"cb-qck-navbar\"> <h1 class=\"cb-qck-lnk-hdr inline-block\">World Cup 2019</h1> <a class=\"cb-text-link cb-qck-ancr\" href=\"/cricket-series/2697/icc-cricket-world-cup-2019\" title=\"World Cup 2019\">Home</a><a class=\"cb-text-link cb-qck-ancr\" href=\"/cricket-series/2697/icc-cricket-world-cup-2019/matches\" title=\"World Cup 2019 Schedule\">Schedule</a><a class=\"cb-text-link cb-qck-ancr\" href=\"/cricket-series/2697/icc-cricket-world-cup-2019/points-table\" title=\"World Cup 2019 Points Table\">Points Table</a><a class=\"cb-text-link cb-qck-ancr\" href=\"/cricket-series/2697/icc-cricket-world-cup-2019/news\" title=\"World Cup 2019 News\">News</a><a class=\"cb-text-link cb-qck-ancr\" href=\"/cricket-series/2697/icc-cricket-world-cup-2019/videos\" title=\"World Cup 2019 Videos\">Videos</a><a class=\"cb-text-link cb-qck-ancr\" href=\"/cricket-series/2697/icc-cricket-world-cup-2019/squads\" title=\"World Cup 2019 Squads\">Squads</a><a class=\"cb-text-link cb-qck-ancr\" href=\"/special-content/boundary-tracker/2697/icc-cricket-world-cup-2019\" title=\"World Cup 2019 Boundary Tracker\">Boundary Tracker</a><a class=\"cb-text-link cb-qck-ancr\" href=\"/cricket-news/108171/world-cup-2019-that-happened\" title=\"World Cup Pulse\">Pulse</a></nav><style>.cb-qck-lnk-hdr{ font-size:18px; line-height: 27px;\n",
      "}</style> <meta content=\"400\" http-equiv=\"refresh\"/> <div class=\"cb-col cb-col-20\"> <div class=\"cb-bg-white\" id=\"cb-news-blck\"><h2 class=\"cb-hm-lft-hdr cb-lv-scr-mtch-hdr\">LATEST NEWS</h2><div class=\"cb-hm-lft\"><div class=\"cb-col-100 cb-lst-itm cb-lst-itm-sm\"><a class=\"cb-nws-hdln-ancr text-hvr-underline\" href=\"/cricket-news/108734/australia-resist-temptation-to-rest-starc-and-cummins-before-knockouts\" title=\"Australia resist temptation to rest Starc and Cummins before knockouts\">Australia resist temptation to rest Starc and Cummins before knockouts</a><div class=\"cb-nws-time\">8h ago</div></div><div class=\"cb-col-100 cb-lst-itm cb-lst-itm-sm\"><a class=\"cb-nws-hdln-ancr text-hvr-underline\" href=\"/cricket-news/108732/sri-lanka-switch-from-fifth-gear-to-reverse-in-double-quick-time\" title=\"Sri Lanka switch from fifth gear to reverse in double quick time\">Sri Lanka switch from fifth gear to reverse in double quick time</a><div class=\"cb-nws-time\">15h ago</div></div><div class=\"cb-col-100 cb-lst-itm cb-lst-itm-sm\"><a class=\"cb-nws-hdln-ancr text-hvr-underline\" href=\"/cricket-news/108731/du-plessis-and-the-saga-of-bittersweet-win\" title=\" Du Plessis and the saga of a bittersweet win\"> Du Plessis and the saga of a bittersweet win</a><div class=\"cb-nws-time\">15h ago</div></div><div class=\"cb-col-100 cb-lst-itm cb-lst-itm-sm\"><a class=\"cb-nws-hdln-ancr text-hvr-underline\" href=\"/cricket-news/108729/muted-buttler-keen-to-make-some-noise-icc-cricket-world-cup-2019\" title=\"Muted Buttler keen to make some noise\">Muted Buttler keen to make some noise</a><div class=\"cb-nws-time\">16h ago</div></div><div class=\"cb-col-100 cb-lst-itm cb-lst-itm-sm\"><a class=\"cb-nws-hdln-ancr text-hvr-underline\" href=\"/cricket-news/108726/naib-hopes-cricket-mends-relationships-off-the-pitch\" title=\"Naib hopes cricket mends relationships off the pitch\">Naib hopes cricket mends relationships off the pitch</a><div class=\"cb-nws-time\">18h ago</div></div><div class=\"cb-col-100 cb-lst-itm cb-lst-itm-sm\"><a class=\"cb-nws-hdln-ancr text-hvr-underline\" href=\"/cricket-news/108722/icc-cricket-world-cup-2019-carlos-brathwaite-fined-handed-demerit-point-for-dissenting-wide-call\" title=\"Brathwaite fined, handed demerit point for dissenting wide call\">Brathwaite fined, handed demerit point for dissenting wide call</a><div class=\"cb-nws-time\">21h ago</div></div><div class=\"cb-col-100 cb-lst-itm cb-lst-itm-sm\"><a class=\"cb-nws-hdln-ancr text-hvr-underline\" href=\"/cricket-news/108721/deepti-sharma-to-play-for-western-storm\" title=\"Deepti Sharma to play for Western Storm\">Deepti Sharma to play for Western Storm</a><div class=\"cb-nws-time\">21h ago</div></div><div class=\"cb-col-100 cb-lst-itm cb-lst-itm-sm\"><a class=\"cb-nws-hdln-ancr text-hvr-underline\" href=\"/cricket-news/108720/no-plan-to-retire-immediately-after-world-cup-mortaza\" title=\"No plan to retire immediately after World Cup: Mortaza\">No plan to retire immediately after World Cup: Mortaza</a><div class=\"cb-nws-time\">22h ago</div></div><div class=\"cb-col-100 cb-lst-itm cb-lst-itm-sm\"><a class=\"cb-nws-hdln-ancr text-hvr-underline\" href=\"/cricket-news/108718/icc-cricket-world-cup-2019-indian-cricket-team-west-indies-kl-rahul\" title=\"Rahul disappointed at throwing away starts\">Rahul disappointed at throwing away starts</a><div class=\"cb-nws-time\">1d ago</div></div><div class=\"cb-col-100 cb-lst-itm cb-lst-itm-sm\"><a class=\"cb-nws-hdln-ancr text-hvr-underline\" href=\"/cricket-news/108711/icc-cricket-world-cup-2019-south-africa-will-play-fearless-cricket-with-no-pressure-of-qualifying-chadika-hathurusingha-sri-lanka-cricket-team\" title=\"South Africa will play fearless cricket with no pressure of qualifying - Hathurusingha\">South Africa will play fearless cricket with no pressure of qualifying - Hathurusingha</a><div class=\"cb-nws-time\">1d ago</div></div><div class=\"cb-hm-mr-lnk\"><a class=\"cb-font-12 cb-text-link\" href=\"/cricket-news/latest-news\" title=\"More News\"><i>More News..</i></a></div></div></div> <div class=\"cb-bg-white\" id=\"hm-photos-blk\"> <h2 class=\"cb-hm-lft-hdr cb-lv-scr-mtch-hdr\">LATEST PHOTOS</h2> <div class=\"cb-hm-lft\"> <div class=\"cb-col-100 cb-lst-itm cb-lst-itm-sm\"> <a href=\"/cricket-gallery/4633/south-africa-v-sri-lanka-icc-world-cup-2019\" title=\"South Africa v Sri Lanka, ICC World Cup 2019\"> <img alt=\"South Africa v Sri Lanka, ICC World Cup 2019\" class=\"lazy-loading pad-0\" height=\"95\" source=\"/a/img/v1/165x95/i1/c175780/south-africa-v-sri-lanka-icc.jpg\" src=\"\" width=\"165\"/> <div class=\"cb-nws-hdln\">South Africa v Sri Lanka, ICC World Cup 2019</div> <span class=\"cb-nws-time\">Fri, Jun 28 2019</span> </a> </div> <div class=\"cb-col-100 cb-lst-itm cb-lst-itm-sm\"> <a href=\"/cricket-gallery/4632/west-indies-vs-india-icc-world-cup-2019-match-34\" title=\"West Indies vs India, ICC World Cup 2019, Match 34\"> <img alt=\"West Indies vs India, ICC World Cup 2019, Match 34\" class=\"lazy-loading pad-0\" height=\"95\" source=\"/a/img/v1/165x95/i1/c175594/west-indies-vs-india-icc-worl.jpg\" src=\"\" width=\"165\"/> <div class=\"cb-nws-hdln\">West Indies vs India, ICC World Cup 2019, Match 34</div> <span class=\"cb-nws-time\">Thu, Jun 27 2019</span> </a> </div> <div class=\"cb-col-100 cb-lst-itm cb-lst-itm-sm\"> <a href=\"/cricket-gallery/4631/new-zealand-vs-pakistan-icc-world-cup-match-33\" title=\"New Zealand vs Pakistan, ICC World Cup, Match 33\"> <img alt=\"New Zealand vs Pakistan, ICC World Cup, Match 33\" class=\"lazy-loading pad-0\" height=\"95\" source=\"/a/img/v1/165x95/i1/c175492/new-zealand-vs-pakistan-icc-w.jpg\" src=\"\" width=\"165\"/> <div class=\"cb-nws-hdln\">New Zealand vs Pakistan, ICC World Cup, Match 33</div> <span class=\"cb-nws-time\">Wed, Jun 26 2019</span> </a> </div> <div class=\"cb-col-100 cb-lst-itm cb-lst-itm-sm\"> <a href=\"/cricket-gallery/4630/england-v-australia-icc-world-cup-2019\" title=\"England v Australia, ICC World Cup 2019\"> <img alt=\"England v Australia, ICC World Cup 2019\" class=\"lazy-loading pad-0\" height=\"95\" source=\"/a/img/v1/165x95/i1/c175312/england-v-australia-icc-world.jpg\" src=\"\" width=\"165\"/> <div class=\"cb-nws-hdln\">England v Australia, ICC World Cup 2019</div> <span class=\"cb-nws-time\">Tue, Jun 25 2019</span> </a> </div> <div class=\"cb-col-100 cb-lst-itm cb-lst-itm-sm\"> <a href=\"/cricket-gallery/4629/afghanistan-v-bangladesh-icc-world-cup-match-31\" title=\"Afghanistan v Bangladesh, ICC World Cup, Match 31\"> <img alt=\"Afghanistan v Bangladesh, ICC World Cup, Match 31\" class=\"lazy-loading pad-0\" height=\"95\" source=\"/a/img/v1/165x95/i1/c175163/afghanistan-v-bangladesh-icc.jpg\" src=\"\" width=\"165\"/> <div class=\"cb-nws-hdln\">Afghanistan v Bangladesh, ICC World Cup, Match 31</div> <span class=\"cb-nws-time\">Mon, Jun 24 2019</span> </a> </div> <div class=\"cb-col-100 cb-lst-itm cb-lst-itm-sm\"> <a href=\"/cricket-gallery/4628/pakistan-vs-south-africa-match-30-icc-world-cup-2019\" title=\"Pakistan vs South Africa, Match 30, ICC World Cup 2019 \"> <img alt=\"Pakistan vs South Africa, Match 30, ICC World Cup 2019 \" class=\"lazy-loading pad-0\" height=\"95\" source=\"/a/img/v1/165x95/i1/c175027/pakistan-vs-south-africa-matc.jpg\" src=\"\" width=\"165\"/> <div class=\"cb-nws-hdln\">Pakistan vs South Africa, Match 30, ICC World Cup 2019 </div> <span class=\"cb-nws-time\">Sun, Jun 23 2019</span> </a> </div> <div class=\"cb-hm-mr-lnk\"> <a class=\"cb-font-12 cb-text-link\" href=\"/cricket-photo-gallery\" title=\"More Photos\"><i>More Photos..</i></a> </div> </div> </div> <div class=\"cb-bg-white\"> <h2 class=\"cb-hm-lft-hdr cb-lv-scr-mtch-hdr\">SCHEDULE</h2> <div class=\"cb-hm-lft\"> <div class=\"cb-col-100 cb-lst-itm cb-lst-itm-sm\"> <div>Pakistan vs Afghanistan, Match 36</div> <div class=\"cb-nws-time\"><span class=\"schedule-date\" format=\"EEE MMM dd\" timestamp=\"1561800600000\" venue=\"+01:00\"></span> • <span class=\"schedule-date\" format=\"h:mm a\" timestamp=\"1561800600000\" venue=\"+01:00\"></span> GMT</div> </div> <div class=\"cb-col-100 cb-lst-itm cb-lst-itm-sm\"> <div>New Zealand vs Australia, Match 37</div> <div class=\"cb-nws-time\"><span class=\"schedule-date\" format=\"EEE MMM dd\" timestamp=\"1561811400000\" venue=\"+01:00\"></span> • <span class=\"schedule-date\" format=\"h:mm a\" timestamp=\"1561811400000\" venue=\"+01:00\"></span> GMT</div> </div> <div class=\"cb-col-100 cb-lst-itm cb-lst-itm-sm\"> <div>England vs India, Match 38</div> <div class=\"cb-nws-time\"><span class=\"schedule-date\" format=\"EEE MMM dd\" timestamp=\"1561887000000\" venue=\"+01:00\"></span> • <span class=\"schedule-date\" format=\"h:mm a\" timestamp=\"1561887000000\" venue=\"+01:00\"></span> GMT</div> </div> <div class=\"cb-col-100 cb-lst-itm cb-lst-itm-sm\"> <div>Sri Lanka vs West Indies, Match 39</div> <div class=\"cb-nws-time\"><span class=\"schedule-date\" format=\"EEE MMM dd\" timestamp=\"1561973400000\" venue=\"+01:00\"></span> • <span class=\"schedule-date\" format=\"h:mm a\" timestamp=\"1561973400000\" venue=\"+01:00\"></span> GMT</div> </div> <div class=\"cb-col-100 cb-lst-itm cb-lst-itm-sm\"> <div>Ireland vs Zimbabwe, 1st ODI</div> <div class=\"cb-nws-time\"><span class=\"schedule-date\" format=\"EEE MMM dd\" timestamp=\"1561974300000\" venue=\"+01:00\"></span> • <span class=\"schedule-date\" format=\"h:mm a\" timestamp=\"1561974300000\" venue=\"+01:00\"></span> GMT</div> </div> <div class=\"cb-col-100 cb-lst-itm cb-lst-itm-sm\"> <div>Bangladesh vs India, Match 40</div> <div class=\"cb-nws-time\"><span class=\"schedule-date\" format=\"EEE MMM dd\" timestamp=\"1562059800000\" venue=\"+01:00\"></span> • <span class=\"schedule-date\" format=\"h:mm a\" timestamp=\"1562059800000\" venue=\"+01:00\"></span> GMT</div> </div> <div class=\"cb-col-100 cb-lst-itm cb-lst-itm-sm\"> <div>England vs New Zealand, Match 41</div> <div class=\"cb-nws-time\"><span class=\"schedule-date\" format=\"EEE MMM dd\" timestamp=\"1562146200000\" venue=\"+01:00\"></span> • <span class=\"schedule-date\" format=\"h:mm a\" timestamp=\"1562146200000\" venue=\"+01:00\"></span> GMT</div> </div> <div class=\"cb-hm-mr-lnk\"> <a class=\"cb-font-12 cb-text-link\" href=\"/cricket-schedule/upcoming-series/international\" title=\"Cricket Schedule\"><i>More Matches..</i></a> </div> </div> </div> </div><div class=\"cb-col cb-col-47\"><div id=\"video_playlist\"> <script> CBQueue.push(function(){ if((_GEO.country == \"US\" || _GEO.country == \"CA\") && false){ _ele('#video_playlist').html('<div class=\"cb-bg-white\" style=\"margin:0 5px 10px;\"><div class=\"kaltura-playlist\" uiconf_id=\"33885652\" entry_id=\"0_lvphia47\" uiautoplay=\"false\" style=\"width:420px;height:385px;padding:10px 15px;\"></div></div>'); }else if([\"AE\",\"SA\",\"KW\",\"BH\",\"QA\",\"OM\",\"GB\"].indexOf(_GEO.country) != -1 && false){ var eplr = document.createElement('script'); eplr.type = 'text/javascript'; eplr.async = true; eplr.src = 'https://player.performgroup.com/eplayer.js#ccb175de91b4f3c5c4bbed6a35.qjdsydmry69m1je82zk8il975'; var vpl = document.getElementById('video_playlist'); vpl.className = \"cb-bg-white\"; vpl.style.margin = \"0px 5px 10px\"; vpl.appendChild(eplr); } }); </script></div><script>CBQueue.push(function(){\tif(_GEO.country == \"US\" || _GEO.country == \"CA\"){\t_ele('#kaltura-video-player').removeClass('disp-none');\t}\tif(_GEO.country == \"IN\" ){\t_ele('specials-home-module').removeClass('disp-none');\t}\n",
      "});</script><div class=\"cb-col cb-hm-mid cb-bg-white cb-hmpage\" style=\"clear:both\"> <div class=\"big-crd-main cb-bg-white\"><div class=\"crd-cntxt\"><span>PAK VS AFG, MATCH 36</span></div><a href=\"/live-cricket-scores/20272/pak-vs-afg-match-36\" title=\"Afridi strikes dent Afghanistan\"><img alt=\"afridi-strikes-dent-afghanistan\" height=\"235\" itemprop=\"image\" src=\"/a/img/v1/420x235/i1/c175803/afridi-strikes-dent-afghanista.jpg\" title=\"Afridi strikes dent Afghanistan\" width=\"420\"/></a><h2 class=\"big-crd-hdln\"><a href=\"/live-cricket-scores/20272/pak-vs-afg-match-36\" title=\"Afridi strikes dent Afghanistan\"> Afridi strikes dent Afghanistan</a></h2><div class=\"cb-nws-intr\">With two successive wins, Pakistan are back in contention for a spot in the semis while Afghanistan are yet to register a single victory</div><div class=\"cb-hm-mtch-crd-width cb-lv-scrs-well cb-lv-scrs-well-live\"> <a href=\"/live-cricket-scores/20272/pak-vs-afg-match-36-icc-cricket-world-cup-2019\" title=\"PAK Vs AFG, Match 36 Live cricket scores\"> <div class=\"cb-col cb-col-100 cb-hm-mtch-crd\"> <div class=\"cb-scr-wll-chvrn cb-col-90\"> <div class=\"cb-lv-scrs-col text-black\"> <div class=\"cb-col cb-mr-30\"> <div class=\"text-bold\">AFG</div> <div class=\"text-bold\">PAK</div> </div> <div class=\"cb-col\"> <div> <span>32-2</span> <span> (6.2)</span> </div> <div> </div> </div> </div> <div class=\"cb-lv-scrs-col cb-text-live\" style=\"white-space:unset;\">Afghanistan opt to bat</div> </div> <div class=\"cb-scr-wll-chvrn cb-col-10\"> <div class=\"cb-ico cb-lv-scr-chvrn-bg\"></div> </div> </div> </a></div><div class=\"big-crd-reltd-itm\"><a class=\"big-crd-rltd-txt\" href=\"/cricket-news/108735/live-blog\" title=\"Live blog\">Live blog</a></div></div><div class=\"big-crd-main cb-bg-white\"><div class=\"crd-cntxt\"><span>WORLD CUP 2019</span></div><a href=\"/cricket-news/108730/lords-switches-on-to-witness-trans-tasman-rivalry-in-a-different-light\" title=\"Lord's switches on to witness Trans-Tasman rivalry in a different light\"><img alt=\"lords-switches-on-to-witness-trans-tasman-rivalry-in-a-different-light\" height=\"235\" itemprop=\"image\" src=\"/a/img/v1/420x235/i1/c175785/lords-switches-on-to-witness.jpg\" title=\"Lord's switches on to witness Trans-Tasman rivalry in a different light\" width=\"420\"/></a><h2 class=\"big-crd-hdln\"><a href=\"/cricket-news/108730/lords-switches-on-to-witness-trans-tasman-rivalry-in-a-different-light\" title=\"Lord's switches on to witness Trans-Tasman rivalry in a different light\"> Lord's switches on to witness Trans-Tasman rivalry in a different light</a></h2><div class=\"cb-nws-intr\">With a playoff spot in sight, New Zealand will take on Australia in only the second day-night ODI at Lord's</div><div class=\"big-crd-reltd-itm\"><a class=\"big-crd-rltd-txt\" href=\"/cricket-news/108725/world-cup-head-to-head-new-zealand-vs-australia\" title=\"World Cup Head to Head: New Zealand vs Australia\">World Cup Head to Head: New Zealand vs Australia</a></div></div><div class=\"big-crd-main cb-bg-white\"><div class=\"crd-cntxt\"><span>WORLD CUP 2019</span></div><a href=\"/cricket-news/108732/sri-lanka-switch-from-fifth-gear-to-reverse-in-double-quick-time\" title=\"Sri Lanka switch from fifth gear to reverse in double quick time\"><img alt=\"sri-lanka-switch-from-fifth-gear-to-reverse-in-double-quick-time\" height=\"235\" itemprop=\"image\" src=\"/a/img/v1/420x235/i1/c175791/sri-lanka-switch-from-fifth-ge.jpg\" title=\"Sri Lanka switch from fifth gear to reverse in double quick time\" width=\"420\"/></a><h2 class=\"big-crd-hdln\"><a href=\"/cricket-news/108732/sri-lanka-switch-from-fifth-gear-to-reverse-in-double-quick-time\" title=\"Sri Lanka switch from fifth gear to reverse in double quick time\"> Sri Lanka switch from fifth gear to reverse in double quick time</a></h2><div class=\"cb-nws-intr\">After scoring 67 in the first ten overs, Sri Lanka were bowled out for a paltry 203</div><div class=\"big-crd-reltd-itm\"><a class=\"big-crd-rltd-txt\" href=\"/cricket-news/108727/dwaine-pretorius-chris-morris-bully-sri-lanka-into-submission\" title=\"Dwaine Pretorius, Chris Morris bully Sri Lanka into submission\">Report /\tDwaine Pretorius, Chris Morris bully Sri Lanka into submission</a></div><div class=\"big-crd-reltd-itm\"><a class=\"big-crd-rltd-txt\" href=\"/cricket-news/108733/that-time-when-malinga-bowled-to-amla\" title=\"That time when Malinga bowled to Amla\">That time when Malinga bowled to Amla</a></div><div class=\"big-crd-reltd-itm\"><a class=\"big-crd-rltd-txt\" href=\"/cricket-news/108731/du-plessis-and-the-saga-of-a-bittersweet-win\" title=\"Du Plessis and the saga of a bittersweet win\">Du Plessis and the saga of a bittersweet win</a></div><div class=\"big-crd-reltd-itm\"><a class=\"big-crd-rltd-txt\" href=\"/cricket-news/108728/qualification-scenarios-sri-lankas-fate-beyond-their-control\" title=\"Qualification scenarios: Sri Lanka's fate beyond their control\">Qualification scenarios: Sri Lanka's fate beyond their control</a></div></div><div class=\"sml-crd-main\"><div class=\"crd-cntxt\">ON THE SPOT</div><div class=\"cb-col-33 cb-col\"><a href=\"/cricket-news/108717/mohammed-shami-good-length-great-results\" title=\"Mohammed Shami: Good length, great results\"><img alt=\"mohammed-shami-good-length-great-results\" class=\"lazy-loading\" height=\"75\" source=\"/a/img/v1/135x75/i1/c175673/mohammed-shami-good-length-g.jpg\" src=\"\" style=\"padding:0px;\" width=\"135\"/></a></div><div class=\"cb-col-67 cb-col cb-hdln-hght\"><h3 class=\"sml-crd-hdln\"><a href=\"/cricket-news/108717/mohammed-shami-good-length-great-results\" title=\"Mohammed Shami: Good length, great results\">Mohammed Shami: Good length, great results</a></h3><div class=\"sml-crd-subtxt\">7h ago</div></div><div class=\"cb-nws-intr\">Running in from the Brian Statham end, Shami produced a seam-bowling masterclass against West Indies at Old Trafford</div> <div class=\"big-crd-reltd-itm\"> <a class=\"big-crd-rltd-txt\" href=\"/cricket-news/108718/rahul-disappointed-at-throwing-away-starts\" title=\"Rahul disappointed at throwing away starts\">Rahul disappointed at throwing away starts</a></div><div class=\"big-crd-reltd-itm\"> <a class=\"big-crd-rltd-txt\" href=\"/cricket-news/108729/muted-buttler-keen-to-make-some-noise\" title=\"Muted Buttler keen to make some noise\">Muted Buttler keen to make some noise</a></div></div><div class=\"sml-crd-main\"><div class=\"crd-cntxt\">WORLD CUP 2019</div><div class=\"cb-col-33 cb-col\"><a href=\"/cricket-news/108720/no-plan-to-retire-immediately-after-world-cup-mortaza\" title=\"No plan to retire immediately after World Cup: Mortaza\"><img alt=\"no-plan-to-retire-immediately-after-world-cup-mortaza\" class=\"lazy-loading\" height=\"75\" source=\"/a/img/v1/135x75/i1/c175701/no-plan-to-retire-immediately.jpg\" src=\"\" style=\"padding:0px;\" width=\"135\"/></a></div><div class=\"cb-col-67 cb-col cb-hdln-hght\"><h3 class=\"sml-crd-hdln\"><a href=\"/cricket-news/108720/no-plan-to-retire-immediately-after-world-cup-mortaza\" title=\"No plan to retire immediately after World Cup: Mortaza\">No plan to retire immediately after World Cup: Mortaza</a></h3><div class=\"sml-crd-subtxt\">7h ago</div></div><div class=\"cb-nws-intr\">The Bangladesh captain had earlier announced 2019 will be his last World Cup, adding fuel to the retirement speculations</div> <div class=\"big-crd-reltd-itm\"> <a class=\"big-crd-rltd-txt\" href=\"/cricket-news/108686/gayle-backtracks-on-odi-retirement-available-for-india-series\" title=\"Gayle backtracks on ODI retirement, available for India series\">Gayle backtracks on ODI retirement, available for India series</a></div></div><div class=\"sml-crd-main\"><div class=\"crd-cntxt\">WOMEN'S CRICKET SUPER LEAGUE</div><div class=\"cb-col-33 cb-col\"><a href=\"/cricket-news/108721/deepti-sharma-to-play-for-western-storm\" title=\"Deepti Sharma to play for Western Storm\"><img alt=\"deepti-sharma-to-play-for-western-storm\" class=\"lazy-loading\" height=\"75\" source=\"/a/img/v1/135x75/i1/c175714/deepti-sharma-to-play-for-west.jpg\" src=\"\" style=\"padding:0px;\" width=\"135\"/></a></div><div class=\"cb-col-67 cb-col cb-hdln-hght\"><h3 class=\"sml-crd-hdln\"><a href=\"/cricket-news/108721/deepti-sharma-to-play-for-western-storm\" title=\"Deepti Sharma to play for Western Storm\">Deepti Sharma to play for Western Storm</a></h3><div class=\"sml-crd-subtxt\">21h ago</div></div><div class=\"cb-nws-intr\">The 21-year-old is currently ranked second among ODI all-rounders</div> </div><div class=\"sml-crd-main\"><div class=\"crd-cntxt\">ENGLISH LEGEND</div><div class=\"cb-col-33 cb-col\"><a href=\"/cricket-news/108709/trescothick-announces-retirement-from-professional-cricket\" title=\"Trescothick announces retirement from professional cricket\"><img alt=\"trescothick-announces-retirement-from-professional-cricket\" class=\"lazy-loading\" height=\"75\" source=\"/a/img/v1/135x75/i1/c175606/trescothick-announces-retireme.jpg\" src=\"\" style=\"padding:0px;\" width=\"135\"/></a></div><div class=\"cb-col-67 cb-col cb-hdln-hght\"><h3 class=\"sml-crd-hdln\"><a href=\"/cricket-news/108709/trescothick-announces-retirement-from-professional-cricket\" title=\"Trescothick announces retirement from professional cricket\">Trescothick announces retirement from professional cricket</a></h3><div class=\"sml-crd-subtxt\">1d ago</div></div><div class=\"cb-nws-intr\">The veteran southpaw, who made his first-class debut in 1993, has failed to find form in the ongoing County Championship season</div> </div><div class=\"big-crd-main cb-bg-white\"><div class=\"crd-cntxt\"><span>WHAT'S THE BUZZ</span></div><a href=\"/cricket-news/108171/world-cup-pulse\" title=\"World Cup Pulse\"><img alt=\"world-cup-pulse\" height=\"235\" itemprop=\"image\" src=\"/a/img/v1/420x235/i1/c170196/world-cup-pulse.jpg\" title=\"World Cup Pulse\" width=\"420\"/></a><h2 class=\"big-crd-hdln\"><a href=\"/cricket-news/108171/world-cup-pulse\" title=\"World Cup Pulse\"> World Cup Pulse</a></h2><div class=\"cb-nws-intr\">All that's happening on and off the field at the 2019 World Cup in England &amp; Wales</div></div><div class=\"sml-crd-main\"><div class=\"crd-cntxt\">BANGLADESH CRICKET</div><div class=\"cb-col-33 cb-col\"><a href=\"/cricket-news/108706/bangladesh-await-security-clearance-for-sri-lanka-tour\" title=\"Bangladesh await security clearance for Sri Lanka tour\"><img alt=\"bangladesh-await-security-clearance-for-sri-lanka-tour\" class=\"lazy-loading\" height=\"75\" source=\"/a/img/v1/135x75/i1/c175546/bangladesh-await-security-clea.jpg\" src=\"\" style=\"padding:0px;\" width=\"135\"/></a></div><div class=\"cb-col-67 cb-col cb-hdln-hght\"><h3 class=\"sml-crd-hdln\"><a href=\"/cricket-news/108706/bangladesh-await-security-clearance-for-sri-lanka-tour\" title=\"Bangladesh await security clearance for Sri Lanka tour\">Bangladesh await security clearance for Sri Lanka tour</a></h3><div class=\"sml-crd-subtxt\">1d ago</div></div><div class=\"cb-nws-intr\">Bangladesh are set to host Afghanistan and Zimbabwe in a T20 tri-series in September</div> </div><div class=\"sml-crd-main\"><div class=\"crd-cntxt\">OUTSIDE THE CIRCLE</div><div class=\"cb-col-33 cb-col\"><a href=\"/cricket-news/108716/much-ado-about-numbers\" title=\"Much ado about numbers\"><img alt=\"much-ado-about-numbers\" class=\"lazy-loading\" height=\"75\" source=\"/a/img/v1/135x75/i1/c175661/much-ado-about-numbers.jpg\" src=\"\" style=\"padding:0px;\" width=\"135\"/></a></div><div class=\"cb-col-67 cb-col cb-hdln-hght\"><h3 class=\"sml-crd-hdln\"><a href=\"/cricket-news/108716/much-ado-about-numbers\" title=\"Much ado about numbers\">Much ado about numbers</a></h3><div class=\"sml-crd-subtxt\">1d ago</div></div><div class=\"cb-nws-intr\">Remarkable results away from the World Cup prompt controversy</div> </div></div></div><div class=\"cb-col cb-col-33\"> <div class=\"cb-col cb-col-100 cb-hm-rt-itm cb-bg-white\"> <div class=\"ad-unit center-block\" id=\"mpu\" style=\"min-height: 250px;\"></div> </div> <div class=\"ad-unit\" id=\"strip_320x50\"></div> <div class=\"cb-col cb-col-100 cb-hm-rt-itm cb-bg-white\" gtm-label=\"Homepage\" id=\"latest-vid-mod\"> <h4 class=\"cb-mdl-hdr\">FEATURED VIDEOS</h4> <div class=\"cb-col cb-col-100 cb-mid-wrp\"> <a class=\"suggested-video-gtm\" gtm-label=\"New Zealand vs Australia, Match 37: Preview|39471\" href=\"/cricket-videos/39471/new-zealand-vs-australia-match-37-preview\" target=\"_self\" title=\"New Zealand vs Australia, Match 37: Preview\"> <div class=\"cb-pos-rel\"> <img alt=\"New Zealand vs Australia, Match 37: Preview\" class=\"cb-suggested-vid-img suggested-video-gtm\" gtm-label=\"New Zealand vs Australia, Match 37: Preview|39471\" height=\"164\" src=\"/a/img/v1/290x164/i1/c175792/new-zealand-vs-australia-matc.jpg\" title=\"New Zealand vs Australia, Match 37: Preview\" width=\"290\"/> <div class=\"cb-vid-duration\">9:13</div> <div class=\"cb-cen\"> <div class=\"cb-vid-sm-ply-api\">►</div> </div> </div> <h4 class=\"text-hvr-underline suggested-video-gtm\" gtm-label=\"New Zealand vs Australia, Match 37: Preview|39471\">New Zealand vs Australia, Match 37: Preview</h4> </a> <div class=\"cb-nws-time\">\t14h ago </div> </div> <div class=\"cb-col cb-col-100 cb-mid-wrp\"> <a class=\"suggested-video-gtm\" gtm-label=\"Pacers will hold the key in New Zealand-Australia clash - Damien Fleming|39472\" href=\"/cricket-videos/39472/pacers-will-hold-the-key-in-new-zealand-australia-clash-damien-fleming\" target=\"_self\" title=\"Pacers will hold the key in New Zealand-Australia clash - Damien Fleming\"> <div class=\"cb-pos-rel\"> <img alt=\"Pacers will hold the key in New Zealand-Australia clash - Damien Fleming\" class=\"cb-suggested-vid-img suggested-video-gtm\" gtm-label=\"Pacers will hold the key in New Zealand-Australia clash - Damien Fleming|39472\" height=\"164\" src=\"/a/img/v1/290x164/i1/c175794/pacers-will-hold-the-key-in-ne.jpg\" title=\"Pacers will hold the key in New Zealand-Australia clash - Damien Fleming\" width=\"290\"/> <div class=\"cb-vid-duration\">5:05</div> <div class=\"cb-cen\"> <div class=\"cb-vid-sm-ply-api\">►</div> </div> </div> <h4 class=\"text-hvr-underline suggested-video-gtm\" gtm-label=\"Pacers will hold the key in New Zealand-Australia clash - Damien Fleming|39472\">Pacers will hold the key in New Zealand-Australia clash - Damien Fleming</h4> </a> <div class=\"cb-nws-time\">\t13h ago </div> </div> <div class=\"cb-col cb-col-100 cb-mid-wrp\"> <a class=\"suggested-video-gtm\" gtm-label=\"Centerstage @ CWC 2019: Jingoist reporter forces Pakistan angle into India-England contest|39476\" href=\"/cricket-videos/39476/centerstage-cwc-2019-jingoist-reporter-forces-pakistan-angle-into-india-england-contest\" target=\"_self\" title=\"Centerstage @ CWC 2019: Jingoist reporter forces Pakistan angle into India-England contest\"> <div class=\"cb-pos-rel\"> <img alt=\"Centerstage @ CWC 2019: Jingoist reporter forces Pakistan angle into India-England contest\" class=\"cb-suggested-vid-img suggested-video-gtm\" gtm-label=\"Centerstage @ CWC 2019: Jingoist reporter forces Pakistan angle into India-England contest|39476\" height=\"164\" src=\"/a/img/v1/290x164/i1/c175799/centerstage-cwc-2019-jingoi.jpg\" title=\"Centerstage @ CWC 2019: Jingoist reporter forces Pakistan angle into India-England contest\" width=\"290\"/> <div class=\"cb-vid-duration\">2:40</div> <div class=\"cb-cen\"> <div class=\"cb-vid-sm-ply-api\">►</div> </div> </div> <h4 class=\"text-hvr-underline suggested-video-gtm\" gtm-label=\"Centerstage @ CWC 2019: Jingoist reporter forces Pakistan angle into India-England contest|39476\">Centerstage @ CWC 2019: Jingoist reporter forces Pakistan angle into India-England contest</h4> </a> <div class=\"cb-nws-time\">\t4h ago </div> </div> <div class=\"cb-col cb-col-100 cb-more-btn-cntnr\"> <a class=\"cb-more-btn\" href=\"/cricket-videos\" role=\"button\" target=\"_self\" title=\"Click to view more videos\">More Videos</a> </div> </div> <div class=\"cb-col cb-col-100 cb-hm-rt-itm cb-bg-white\"> <div class=\"ad-unit center-block\" id=\"mpu2\"></div> </div> <div class=\"cb-col cb-col-100 cb-hm-rt-itm cb-bg-white\"> <h4 class=\"cb-mdl-hdr\">Specials</h4> <div class=\"cb-col cb-col-100 cb-mid-wrp\"><a href=\"/cricket-news/108699/icc-cricket-world-cup-2019-new-zealand-craig-mcmillan-interview\" title=\"Craig McMillan - The batting innovator long before the T20 era\"><img alt=\"Craig McMillan - The batting innovator long before the T20 era\" class=\"cb-vid-img\" height=\"170\" src=\"/i/news/fth/303x170/images/homepage/qck_1561594068.jpeg\" width=\"303\"/><h4 class=\"text-hvr-underline\">Craig McMillan - The batting innovator long before the T20 era</h4></a><div class=\"cb-nws-intr\">The former New Zealand cricketer opens up about his playing days, the joy of playing against spin, facing Warne and McGrath and so much more</div></div><div class=\"cb-col cb-col-100 cb-mid-wrp\"><a href=\"/cricket-news/108667/the-indian-constant-in-mushtaq-mohammads-memory-trail\" title=\"The Indian constant in Mushtaq Mohammad's memory trail\"><img alt=\"The Indian constant in Mushtaq Mohammad's memory trail\" class=\"cb-vid-img\" height=\"170\" src=\"/i/news/fth/303x170/images/homepage/qck_1561526653.jpeg\" width=\"303\"/><h4 class=\"text-hvr-underline\">The Indian constant in Mushtaq Mohammad's memory trail</h4></a><div class=\"cb-nws-intr\">Mushtaq Mohammad opens up about the Indian influences through his journey, his love for classical music, a chance meeting with Lata Mangeshkar and more in an exclusive chat</div></div><div class=\"cb-col cb-col-100 cb-mid-wrp\"><a href=\"/cricket-news/108602/afghanistan-pacer-hamid-hassans-promise-kept-as-he-embarks-on-last-lap\" title=\"Hamid Hassan's promise kept as he embarks on last lap\"><img alt=\"Hamid Hassan's promise kept as he embarks on last lap\" class=\"cb-vid-img\" height=\"170\" src=\"/i/news/fth/303x170/images/homepage/qck_1561117801.jpeg\" width=\"303\"/><h4 class=\"text-hvr-underline\">Hamid Hassan's promise kept as he embarks on last lap</h4></a><div class=\"cb-nws-intr\">The Afghanistan pacer has battled through hurdles aplenty to live his World Cup dream, including a career-threatening injury a few years ago</div></div><div class=\"cb-col cb-col-100 cb-mid-wrp\"><a href=\"/cricket-news/108580/wahab-riaz-jofra-archer-faf-du-plessis-angelo-mathews-steve-smith-when-world-cup-stars-played-club-cricke\" title=\"When World Cup stars played club cricket\"><img alt=\"When World Cup stars played club cricket\" class=\"cb-vid-img\" height=\"170\" src=\"/i/news/fth/303x170/images/homepage/qck_1561022281.jpeg\" width=\"303\"/><h4 class=\"text-hvr-underline\">When World Cup stars played club cricket</h4></a><div class=\"cb-nws-intr\">The days when every great cricketer played in English league cricket may be gone, but there are still some at this World Cup who had such a stint. We speak to those who played with them</div></div><div class=\"cb-col cb-col-100 cb-mid-wrp\"><a href=\"/cricket-news/108598/2019-world-cup-joe-root-grandfather-don-root-don-bradman\" title=\"In conversation with grandpa Root\"><img alt=\"In conversation with grandpa Root\" class=\"cb-vid-img\" height=\"170\" src=\"/i/news/fth/303x170/images/homepage/qck_1561083998.jpeg\" width=\"303\"/><h4 class=\"text-hvr-underline\">In conversation with grandpa Root</h4></a><div class=\"cb-nws-intr\">Don, the 83-year-old grandfather of Joe Root, talks about seeing Bradman live as a 14-year-old, and now spending his retired life watching cricket</div></div> </div> <div class=\"cb-col cb-col-100 cb-hm-rt-itm cb-bg-white\"> <div class=\"ad-unit center-block\" id=\"mpu3\"></div> </div> </div> <span class=\"ad-unit\" id=\"skin_right\" style=\"overflow:hidden;position:fixed;top:0;left:calc(50% + 490px);margin-left:3px;z-index:-99;\"></span></div></div><div ng-cloak=\"\" ng-if='$root.$GEO.continent == \"EU\"'><div class=\"feedback-bar text-center cb-col-100 disp-none feedback-menu\" id=\"feedback-bar\" ng-controller=\"FeedbackCtrl\" ng-init=\"show_feedback_menu();\"><span class=\"feedback-txt\">We use cookies to improve your experience on our site and to show you non-personalized ads. Find out more in our <a href=\"/info/privacy\" style=\"color:#4A90E2;\">privacy policy</a> and <a href=\"/info/privacy#cookie_policy\" style=\"color:#4A90E2;\">cookie policy</a></span><button class=\"cb-feedback-btn blue-btn cb-cursor\" id=\"close_feedback_btn\" ng-click=\"close_feedback();\">OK</button></div></div><footer id=\"FooterWraper\" itemscope=\"\" itemtype=\"http://schema.org/WPFooter\"><div class=\"cb-footer cb-col-100 cb-col\"><div class=\"cb-ftr-cntnr\"><div class=\"cb-col-25 cb-col\"><a class=\"center-block\" href=\"/\"><div class=\"cb-ftr-logo cb-ico\"></div></a></div><div class=\"cb-col-25 cb-col\"><div class=\"text-left cb-font-16 text-bold\">MOBILE SITE &amp; APPS</div><ul class=\"cb-ftr-ul\"><li class=\"cb-ftr-lst\"><a class=\"text-white\" href=\"https://m.cricbuzz.com\"><span class=\"cb-mobile-site cb-ico\"></span><span class=\"cb-footer-list-rt\">m.cricbuzz.com</span></a></li><li class=\"cb-ftr-lst\"><a class=\"text-white\" href=\"https://play.google.com/store/apps/details?id=com.cricbuzz.android\" target=\"_blank\"><span class=\"cb-app-android cb-ico\"></span><span class=\"cb-footer-list-rt\">Android</span></a></li><li class=\"cb-ftr-lst\"><a class=\"text-white\" href=\"https://itunes.apple.com/app/id360466413\" target=\"_blank\"><span class=\"cb-app-ios cb-ico\"></span><span class=\"cb-footer-list-rt\">iOS</span></a></li></ul></div><div class=\"cb-col-25 cb-col\"><div class=\"text-left cb-font-16 text-bold\">FOLLOW US ON</div><ul class=\"cb-ftr-ul\"><li class=\"cb-ftr-lst\"><a class=\"text-white\" href=\"https://www.facebook.com/cricbuzz\" target=\"_blank\"><span class=\"cb-social-fb cb-ico\"></span><span class=\"cb-footer-list-rt\">facebook</span></a></li><li class=\"cb-ftr-lst\"><a class=\"text-white\" href=\"https://twitter.com/cricbuzz\" target=\"_blank\"><span class=\"cb-social-twitter cb-ico\"></span><span class=\"cb-footer-list-rt\">twitter</span></a></li><li class=\"cb-ftr-lst\"><a class=\"text-white\" href=\"https://www.youtube.com/channel/UCSRQXk5yErn4e14vN76upOw\" target=\"_blank\"><span class=\"cb-social-ytbe cb-ico\"></span><span class=\"cb-footer-list-rt\">youtube</span></a></li><li class=\"cb-ftr-lst\"><a class=\"text-white\" href=\"https://in.pinterest.com/cricbuzz/\" target=\"_blank\"><span class=\"cb-social-pinterest cb-ico\"></span><span class=\"cb-footer-list-rt\">Pinterest</span></a></li></ul></div><div class=\"cb-col-25 cb-col\"><div class=\"text-left cb-font-16 text-bold\">COMPANY</div><ul class=\"cb-ftr-ul\"><li class=\"cb-ftr-lst\"><a class=\"text-white\" href=\"/careers\">Careers</a></li><li class=\"cb-ftr-lst\"><a class=\"text-white\" href=\"/info/advertise\">Advertise</a></li><li class=\"cb-ftr-lst\"><a class=\"text-white\" href=\"/info/privacy\" rel=\"nofollow\">Privacy Policy</a></li><li class=\"cb-ftr-lst\"><a class=\"text-white\" href=\"/info/termsofuse\" rel=\"nofollow\">Terms of Use</a></li><li class=\"cb-ftr-lst\"><a class=\"text-white\" href=\"/product-blog/cricbuzz-mobile-apps-tv-ad-cricket-ka-keeda\">Cricbuzz TV Ads</a></li></ul></div><div class=\"cb-col-100 cb-col cb-ftr-cpyrght\">© 2019 Cricbuzz.com, Times Internet Limited. All rights reserved | <a class=\"cb-ftr-cpyrght text-hvr-underline\" href=\"http://timesofindia.indiatimes.com/\" target=\"_blank\">The Times of India</a> | <a class=\"cb-ftr-cpyrght text-hvr-underline\" href=\"http://navbharattimes.indiatimes.com/\" target=\"_blank\">Navbharat Times</a></div></div></div></footer><script type=\"text/javascript\">var script_tag = document.getElementsByTagName('script')[0];\t(function() {\tvar cmin = document.createElement('script'); cmin.type = 'text/javascript'; cmin.async = true;\tcmin.src = '/dist/js/cricbuzz.min.6501.js';\tscript_tag.parentNode.insertBefore(cmin, script_tag);\t})();</script><noscript><iframe height=\"0\" src=\"//www.googletagmanager.com/ns.html?id=GTM-PGNCT7\" style=\"display:none;visibility:hidden\" width=\"0\"></iframe></noscript><script>(function(w,d,s,l,i){w[l]=w[l]||[];w[l].push({'gtm.start':\tnew Date().getTime(),event:'gtm.js'});var f=d.getElementsByTagName(s)[0],\tj=d.createElement(s),dl=l!='dataLayer'?'&l='+l:'';j.async=true;j.src=\t'//www.googletagmanager.com/gtm.js?id='+i+dl;f.parentNode.insertBefore(j,f);\t})(window,document,'script','dataLayer','GTM-PGNCT7');</script><script>window.onerror = function(message, file, line) {\tvar sFormattedMessage = '[' + file + ' (' + line + ')] ' + message;\tdataLayer.push({'EventAction': \"Application\",'EventLabel': sFormattedMessage,'event': 'Exceptions'});\t}</script> </body></html>\n"
     ]
    }
   ],
   "source": [
    "print(s)"
   ]
  },
  {
   "cell_type": "code",
   "execution_count": 89,
   "metadata": {},
   "outputs": [
    {
     "ename": "SyntaxError",
     "evalue": "invalid syntax (<ipython-input-89-0b0948c9ced3>, line 1)",
     "output_type": "error",
     "traceback": [
      "\u001b[1;36m  File \u001b[1;32m\"<ipython-input-89-0b0948c9ced3>\"\u001b[1;36m, line \u001b[1;32m1\u001b[0m\n\u001b[1;33m    for i in s.find_all('div',{\"class\"='cb-col cb-col-100'}):\u001b[0m\n\u001b[1;37m                                      ^\u001b[0m\n\u001b[1;31mSyntaxError\u001b[0m\u001b[1;31m:\u001b[0m invalid syntax\n"
     ]
    }
   ],
   "source": [
    "for i in s.find_all('div',{\"class\"='cb-col cb-col-100'}):\n",
    "    i.text"
   ]
  },
  {
   "cell_type": "code",
   "execution_count": null,
   "metadata": {},
   "outputs": [],
   "source": []
  },
  {
   "cell_type": "code",
   "execution_count": null,
   "metadata": {},
   "outputs": [],
   "source": []
  },
  {
   "cell_type": "code",
   "execution_count": 90,
   "metadata": {},
   "outputs": [
    {
     "ename": "SyntaxError",
     "evalue": "invalid syntax (<ipython-input-90-0b0948c9ced3>, line 1)",
     "output_type": "error",
     "traceback": [
      "\u001b[1;36m  File \u001b[1;32m\"<ipython-input-90-0b0948c9ced3>\"\u001b[1;36m, line \u001b[1;32m1\u001b[0m\n\u001b[1;33m    for i in s.find_all('div',{\"class\"='cb-col cb-col-100'}):\u001b[0m\n\u001b[1;37m                                      ^\u001b[0m\n\u001b[1;31mSyntaxError\u001b[0m\u001b[1;31m:\u001b[0m invalid syntax\n"
     ]
    }
   ],
   "source": [
    "for i in s.find_all('div',{\"class\"='cb-col cb-col-100'}):\n",
    "    i.text"
   ]
  },
  {
   "cell_type": "code",
   "execution_count": 93,
   "metadata": {},
   "outputs": [
    {
     "ename": "SyntaxError",
     "evalue": "invalid syntax (<ipython-input-93-23d40d7134be>, line 1)",
     "output_type": "error",
     "traceback": [
      "\u001b[1;36m  File \u001b[1;32m\"<ipython-input-93-23d40d7134be>\"\u001b[1;36m, line \u001b[1;32m1\u001b[0m\n\u001b[1;33m    for i in s.findall('div',{\"class\"='cb-col cb-col-100'}):\u001b[0m\n\u001b[1;37m                                     ^\u001b[0m\n\u001b[1;31mSyntaxError\u001b[0m\u001b[1;31m:\u001b[0m invalid syntax\n"
     ]
    }
   ],
   "source": [
    "for i in s.findall('div',{\"class\"='cb-col cb-col-100'}):\n",
    "    i.text"
   ]
  },
  {
   "cell_type": "code",
   "execution_count": 96,
   "metadata": {},
   "outputs": [
    {
     "ename": "SyntaxError",
     "evalue": "invalid syntax (<ipython-input-96-59223a447d1b>, line 1)",
     "output_type": "error",
     "traceback": [
      "\u001b[1;36m  File \u001b[1;32m\"<ipython-input-96-59223a447d1b>\"\u001b[1;36m, line \u001b[1;32m1\u001b[0m\n\u001b[1;33m    for i in s.findall('div',{'class'=\"cb-col cb-col-100 mrgn-btm-5 ng-scope\"}):\u001b[0m\n\u001b[1;37m                                     ^\u001b[0m\n\u001b[1;31mSyntaxError\u001b[0m\u001b[1;31m:\u001b[0m invalid syntax\n"
     ]
    }
   ],
   "source": [
    "for i in s.findAll('div',{\"class\"=\"cb-lv-scrs-col\"}):\n",
    "    i.text"
   ]
  },
  {
   "cell_type": "code",
   "execution_count": 103,
   "metadata": {},
   "outputs": [
    {
     "ename": "TypeError",
     "evalue": "'NoneType' object is not callable",
     "output_type": "error",
     "traceback": [
      "\u001b[1;31m---------------------------------------------------------------------------\u001b[0m",
      "\u001b[1;31mTypeError\u001b[0m                                 Traceback (most recent call last)",
      "\u001b[1;32m<ipython-input-103-c86425301c80>\u001b[0m in \u001b[0;36m<module>\u001b[1;34m\u001b[0m\n\u001b[0;32m      8\u001b[0m \u001b[1;31m#using beautifulsoup for scraping\u001b[0m\u001b[1;33m\u001b[0m\u001b[1;33m\u001b[0m\u001b[1;33m\u001b[0m\u001b[0m\n\u001b[0;32m      9\u001b[0m \u001b[0mfile\u001b[0m \u001b[1;33m=\u001b[0m \u001b[0mopen\u001b[0m\u001b[1;33m(\u001b[0m\u001b[1;34m\"ci.txt\"\u001b[0m\u001b[1;33m,\u001b[0m\u001b[1;34m\"a\"\u001b[0m\u001b[1;33m)\u001b[0m\u001b[1;33m\u001b[0m\u001b[1;33m\u001b[0m\u001b[0m\n\u001b[1;32m---> 10\u001b[1;33m \u001b[1;32mfor\u001b[0m \u001b[0mscore\u001b[0m \u001b[1;32min\u001b[0m \u001b[0msoup\u001b[0m\u001b[1;33m.\u001b[0m\u001b[0mfindall\u001b[0m\u001b[1;33m(\u001b[0m\u001b[1;34m\"div\"\u001b[0m\u001b[1;33m,\u001b[0m\u001b[1;33m{\u001b[0m\u001b[1;34m\"class\"\u001b[0m\u001b[1;33m:\u001b[0m\u001b[1;34m\"cb-lv-scrs-col\"\u001b[0m\u001b[1;33m}\u001b[0m\u001b[1;33m)\u001b[0m\u001b[1;33m:\u001b[0m\u001b[1;33m\u001b[0m\u001b[1;33m\u001b[0m\u001b[0m\n\u001b[0m\u001b[0;32m     11\u001b[0m     \u001b[0mscre\u001b[0m \u001b[1;33m=\u001b[0m \u001b[0mscore\u001b[0m\u001b[1;33m.\u001b[0m\u001b[0mtext\u001b[0m\u001b[1;33m\u001b[0m\u001b[1;33m\u001b[0m\u001b[0m\n\u001b[0;32m     12\u001b[0m     \u001b[0mscree\u001b[0m \u001b[1;33m=\u001b[0m \u001b[0mscre\u001b[0m\u001b[1;33m.\u001b[0m\u001b[0mencode\u001b[0m\u001b[1;33m(\u001b[0m\u001b[1;34m'utf-8'\u001b[0m\u001b[1;33m)\u001b[0m\u001b[1;33m\u001b[0m\u001b[1;33m\u001b[0m\u001b[0m\n",
      "\u001b[1;31mTypeError\u001b[0m: 'NoneType' object is not callable"
     ]
    }
   ],
   "source": []
  },
  {
   "cell_type": "code",
   "execution_count": null,
   "metadata": {},
   "outputs": [],
   "source": [
    "fromm bs4 import Beautifu"
   ]
  }
 ],
 "metadata": {
  "kernelspec": {
   "display_name": "Python 3",
   "language": "python",
   "name": "python3"
  },
  "language_info": {
   "codemirror_mode": {
    "name": "ipython",
    "version": 3
   },
   "file_extension": ".py",
   "mimetype": "text/x-python",
   "name": "python",
   "nbconvert_exporter": "python",
   "pygments_lexer": "ipython3",
   "version": "3.7.3"
  }
 },
 "nbformat": 4,
 "nbformat_minor": 2
}
